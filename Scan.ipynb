{
 "cells": [
  {
   "cell_type": "markdown",
   "metadata": {},
   "source": [
    "# Scan"
   ]
  },
  {
   "cell_type": "code",
   "execution_count": null,
   "metadata": {},
   "outputs": [],
   "source": [
    "import sys\n",
    "import pandas as pd\n",
    "import requests, urllib3\n",
    "urllib3.disable_warnings(urllib3.exceptions.InsecureRequestWarning)\n",
    "\n",
    "from insightvm_authen import InsightvmAuthentication"
   ]
  },
  {
   "cell_type": "code",
   "execution_count": null,
   "metadata": {},
   "outputs": [],
   "source": [
    "HOSTNAME = InsightvmAuthentication().getHostname()\n",
    "HEADER = InsightvmAuthentication().getRequestHeader()\n",
    "# HOSTNAME, HEADER"
   ]
  },
  {
   "cell_type": "markdown",
   "metadata": {},
   "source": [
    "# Get All Available Scan Engine Pool"
   ]
  },
  {
   "cell_type": "code",
   "execution_count": null,
   "metadata": {},
   "outputs": [],
   "source": [
    "def getAllAvailableScanEnginePool():\n",
    "    getAllAvailableScanEngineURL = HOSTNAME + \"api/3/scan_engine_pools\"\n",
    "\n",
    "    print(\"Hostname : \" + getAllAvailableScanEngineURL)\n",
    "    r = requests.get(getAllAvailableScanEngineURL, headers=HEADER, verify=False)\n",
    "    if r.status_code == 200:\n",
    "        r = r.json()\n",
    "        return r[\"resources\"]\n",
    "    else:\n",
    "        print(r.status_code)"
   ]
  },
  {
   "cell_type": "code",
   "execution_count": null,
   "metadata": {},
   "outputs": [],
   "source": [
    "def extractScanEnginePool(data={}):\n",
    "    return {\n",
    "        \"poolId\": data[\"id\"],\n",
    "        \"poolName\": data[\"name\"],\n",
    "        \"engines\": data[\"engines\"] if \"engines\" in data else [],\n",
    "        \"sites\": data[\"sites\"] if \"sites\" in data else [],\n",
    "    }"
   ]
  },
  {
   "cell_type": "code",
   "execution_count": null,
   "metadata": {},
   "outputs": [],
   "source": [
    "availableScanEnginePool = getAllAvailableScanEnginePool()\n",
    "availableScanEnginePool = [ extractScanEnginePool(data=pool) for pool in availableScanEnginePool ]"
   ]
  },
  {
   "cell_type": "code",
   "execution_count": null,
   "metadata": {},
   "outputs": [],
   "source": [
    "pd.DataFrame(availableScanEnginePool)"
   ]
  },
  {
   "cell_type": "markdown",
   "metadata": {},
   "source": [
    "# Get All Available Scan Engine"
   ]
  },
  {
   "cell_type": "code",
   "execution_count": null,
   "metadata": {},
   "outputs": [],
   "source": [
    "def getAllAvailableScanEngine():\n",
    "    getAllAvailableScanEngineURL = HOSTNAME + \"api/3/scan_engines\"\n",
    "\n",
    "    print(\"Hostname : \" + getAllAvailableScanEngineURL)\n",
    "    r = requests.get(getAllAvailableScanEngineURL, headers=HEADER, verify=False)\n",
    "    if r.status_code == 200:\n",
    "        r = r.json()\n",
    "        return r[\"resources\"]\n",
    "    else:\n",
    "        print(r.status_code)"
   ]
  },
  {
   "cell_type": "code",
   "execution_count": null,
   "metadata": {},
   "outputs": [],
   "source": [
    "def extractScanEngine(data={}):\n",
    "    return {\n",
    "        \"engineId\": data[\"id\"],\n",
    "        \"engineName\": data[\"name\"],\n",
    "        \"engineStatus\": data[\"status\"],\n",
    "        \"engineIP\": data[\"address\"],\n",
    "        \"enginePort\": data[\"port\"],\n",
    "    }"
   ]
  },
  {
   "cell_type": "code",
   "execution_count": null,
   "metadata": {},
   "outputs": [],
   "source": [
    "availableScanEngine = getAllAvailableScanEngine()\n",
    "availableScanEngine = [ extractScanEngine(data=engine) for engine in availableScanEngine ]"
   ]
  },
  {
   "cell_type": "code",
   "execution_count": null,
   "metadata": {},
   "outputs": [],
   "source": [
    "pd.DataFrame(availableScanEngine)"
   ]
  },
  {
   "cell_type": "markdown",
   "metadata": {},
   "source": [
    "# Get Scan Engine Name"
   ]
  },
  {
   "cell_type": "code",
   "execution_count": null,
   "metadata": {},
   "outputs": [],
   "source": [
    "def getScanEngineName(engineId=\"\"):\n",
    "    getScanEngineNameURL = HOSTNAME + \"api/3/scan_engines/\" + str(engineId)\n",
    "\n",
    "    print(\"\\nGetting Scan Engine Name\")\n",
    "    print(\"Hostname : \" + getScanEngineNameURL)\n",
    "    r = requests.get(getScanEngineNameURL, headers=HEADER, verify=False)\n",
    "    if r.status_code == 200:\n",
    "        r = r.json()\n",
    "        if \"name\" in r:\n",
    "            return r[\"name\"]\n",
    "        else:\n",
    "            print(\"[Error] Not Found Scan Engine\")\n",
    "            sys.exit()\n",
    "    else:\n",
    "        print(\"[Error] Request Connection Error.\")\n",
    "        print(r.status_code)"
   ]
  },
  {
   "cell_type": "code",
   "execution_count": null,
   "metadata": {},
   "outputs": [],
   "source": [
    "engineId = \"1\"\n",
    "getScanEngineName(engineId=engineId)"
   ]
  },
  {
   "cell_type": "markdown",
   "metadata": {},
   "source": [
    "## Get SiteID by Scan Engine ID"
   ]
  },
  {
   "cell_type": "code",
   "execution_count": null,
   "metadata": {},
   "outputs": [],
   "source": [
    "def getSiteIDByScanEngineID(engineId=\"\", page=None):\n",
    "    getSiteIDByScanEngineIDURL = HOSTNAME + \"api/3/scan_engines/\" + str(engineId) + \"/sites?page=\" + str(page)\n",
    "    \n",
    "    params = {\n",
    "        \"size\" : \"500\"\n",
    "    }\n",
    "    \n",
    "    print(\"\\nGetting SiteID by Scan Engine ID\")\n",
    "    print(\"Hostname : \" + getSiteIDByScanEngineIDURL)\n",
    "    r = requests.get(getSiteIDByScanEngineIDURL, params=params, headers=HEADER, verify=False)\n",
    "    if r.status_code == 200:\n",
    "        r = r.json()\n",
    "        return r\n",
    "    else:\n",
    "        print(\"[Error] Request Connection Error.\")\n",
    "        print(r.status_code)"
   ]
  },
  {
   "cell_type": "code",
   "execution_count": null,
   "metadata": {},
   "outputs": [],
   "source": [
    "def extractSiteInfo(data={}):\n",
    "    return {\n",
    "        \"scanEngine\" : str(data[\"scanEngine\"]),\n",
    "        \"scanTemplateID\" : data[\"scanTemplate\"],\n",
    "        \"importance\" : data[\"importance\"],\n",
    "        \"siteID\" : data[\"id\"],\n",
    "        \"siteName\" : data[\"name\"],\n",
    "        \"assets\" : data[\"assets\"]\n",
    "    }"
   ]
  },
  {
   "cell_type": "code",
   "execution_count": null,
   "metadata": {},
   "outputs": [],
   "source": [
    "engineId = 13\n",
    "siteInfos = getSiteIDByScanEngineID(engineId=engineId, page=0)\n",
    "siteInfos[\"page\"], len(siteInfos[\"resources\"])"
   ]
  },
  {
   "cell_type": "code",
   "execution_count": null,
   "metadata": {},
   "outputs": [],
   "source": [
    "pd.DataFrame([extractSiteInfo(data=site) for site in siteInfos[\"resources\"]])"
   ]
  },
  {
   "cell_type": "code",
   "execution_count": null,
   "metadata": {},
   "outputs": [],
   "source": []
  },
  {
   "cell_type": "markdown",
   "metadata": {},
   "source": [
    "### Move All Site in Scan Engine to Scan Engine Pools Lab"
   ]
  },
  {
   "cell_type": "code",
   "execution_count": null,
   "metadata": {},
   "outputs": [],
   "source": [
    "def getAllSiteInfoByScanEngineID(engineId=None):\n",
    "    siteInfos = []\n",
    "    \n",
    "    page = 0\n",
    "    totalPages = 0\n",
    "    totalResources = 0\n",
    "    \n",
    "    if engineId:\n",
    "        while True:\n",
    "            result = getSiteIDByScanEngineID(engineId=str(engineId), page=page)\n",
    "            \n",
    "            siteInfos += [extractSiteInfo(data=site) for site in result[\"resources\"]]\n",
    "            \n",
    "            if page == 0:\n",
    "                totalPages = result[\"page\"][\"totalPages\"]\n",
    "                totalResources = result[\"page\"][\"totalResources\"]\n",
    "                print(\"Engine Id : \" + str(engineId) + \", Total Pages : \" + str(totalPages) + \", Total Resources : \" + str(totalResources))\n",
    "            \n",
    "                if len(siteInfos) < 500: \n",
    "                    print(\"[Error] Query Size(500) != Retrieve Size[SiteInfos] from Page 0(\" + str(len(siteInfos)) + \")\")\n",
    "                    return siteInfos\n",
    "                    \n",
    "            if totalPages == page and totalResources == len(siteInfos):\n",
    "                print(\"[Getting Complete] SiteInfos Length : \" + str(len(siteInfos)))\n",
    "                return siteInfos\n",
    "            else:\n",
    "                print(\"\")\n",
    "                page += 1\n",
    "    \n"
   ]
  },
  {
   "cell_type": "code",
   "execution_count": null,
   "metadata": {},
   "outputs": [],
   "source": [
    "engineIds = [1,2,3,4]"
   ]
  },
  {
   "cell_type": "code",
   "execution_count": null,
   "metadata": {},
   "outputs": [],
   "source": [
    "allSiteInfoByEngineIds = []\n",
    "for engineId in engineIds:\n",
    "    allSiteInfoByEngineIds += getAllSiteInfoByScanEngineID(engineId=str(engineId))"
   ]
  },
  {
   "cell_type": "code",
   "execution_count": null,
   "metadata": {},
   "outputs": [],
   "source": [
    "allSiteInfoByEngineIds_df = pd.DataFrame(allSiteInfoByEngineIds)\n",
    "allSiteInfoByEngineIds_df"
   ]
  },
  {
   "cell_type": "code",
   "execution_count": null,
   "metadata": {},
   "outputs": [],
   "source": [
    "filename = \"outputs/\" + \"siteInfo_Engine.xlsx\"\n",
    "allSiteInfoByEngineIds_df.to_excel(filename, index=False, header=True)"
   ]
  },
  {
   "cell_type": "code",
   "execution_count": null,
   "metadata": {},
   "outputs": [],
   "source": []
  },
  {
   "cell_type": "code",
   "execution_count": null,
   "metadata": {},
   "outputs": [],
   "source": [
    "def getSiteScanConfig(siteId=\"\"):\n",
    "    getSiteScanConfigURL = HOSTNAME + \"api/3/sites/\" + str(siteId)\n",
    "    \n",
    "    print(\"\\nGet Site Scan Configuration by Site ID\")\n",
    "    print(\"Hostname : \" + getSiteScanConfigURL)\n",
    "    r = requests.get(getSiteScanConfigURL, headers=HEADER, verify=False)\n",
    "    if r.status_code == 200:\n",
    "        r = r.json()\n",
    "        return r\n",
    "    else:\n",
    "        print(\"[Error] Request Connection Error.\")\n",
    "        print(r.status_code)"
   ]
  },
  {
   "cell_type": "code",
   "execution_count": null,
   "metadata": {},
   "outputs": [],
   "source": [
    "def updateSiteScanConfig(siteId=\"\", payload={}):\n",
    "    updateSiteScanConfigURL = HOSTNAME + \"api/3/sites/\" + str(siteId)\n",
    "    \n",
    "    print(\"\\nUpdate Site Scan Configuration by Site ID\")\n",
    "    print(\"Hostname : \" + updateSiteScanConfigURL)\n",
    "    r = requests.put(updateSiteScanConfigURL, headers=HEADER, json=payload, verify=False)\n",
    "    if r.status_code == 200:\n",
    "        r = r.json()\n",
    "        return r\n",
    "    else:\n",
    "        print(\"[Error] Request Connection Error.\")\n",
    "        print(r.status_code)"
   ]
  },
  {
   "cell_type": "code",
   "execution_count": null,
   "metadata": {},
   "outputs": [],
   "source": [
    "def updateAllSiteScanConfig(siteinfo={}):\n",
    "#     getSiteScanConfig(siteId=siteinfos[\"siteID\"])\n",
    "    poolID = 1\n",
    "    \n",
    "    payload = {\n",
    "        \"engineId\": str(poolID),\n",
    "        'importance': siteinfo[\"importance\"],\n",
    "        'name': siteinfo[\"siteName\"],\n",
    "        'scanTemplateId': siteinfo[\"scanTemplateID\"],\n",
    "    }\n",
    "    updateSiteScanConfig(siteId=siteinfo[\"siteID\"], payload=payload)\n",
    "\n",
    "#     getSiteScanConfig(siteId=siteId)\n",
    "    "
   ]
  },
  {
   "cell_type": "code",
   "execution_count": null,
   "metadata": {},
   "outputs": [],
   "source": []
  },
  {
   "cell_type": "code",
   "execution_count": null,
   "metadata": {},
   "outputs": [],
   "source": [
    "for siteinfo in allSiteInfoByEngineIds:\n",
    "    print(\"\\n+\n",
    "          \")\n",
    "    print(siteinfo)\n",
    "    updateAllSiteScanConfig(siteinfo=siteinfo)\n",
    "    print(extractSiteInfo(data=getSiteScanConfig(siteId=siteinfo[\"siteID\"])))"
   ]
  },
  {
   "cell_type": "code",
   "execution_count": null,
   "metadata": {},
   "outputs": [],
   "source": [
    "getSiteScanConfig(siteId=\"17\")"
   ]
  },
  {
   "cell_type": "code",
   "execution_count": null,
   "metadata": {},
   "outputs": [],
   "source": []
  },
  {
   "cell_type": "markdown",
   "metadata": {},
   "source": [
    "# Get All Scan Templates"
   ]
  },
  {
   "cell_type": "code",
   "execution_count": null,
   "metadata": {},
   "outputs": [],
   "source": [
    "def getAllScanTemplate():\n",
    "    getAllScanTemplateURL = HOSTNAME + \"api/3/scan_templates\"\n",
    "\n",
    "    print(\"Hostname : \" + getAllScanTemplateURL)\n",
    "    r = requests.get(getAllScanTemplateURL, headers=HEADER, verify=False)\n",
    "    if r.status_code == 200:\n",
    "        r = r.json()\n",
    "        return r[\"resources\"]\n",
    "    else:\n",
    "        print(r.status_code)"
   ]
  },
  {
   "cell_type": "code",
   "execution_count": null,
   "metadata": {},
   "outputs": [],
   "source": [
    "def extractScanTemplate(data={}):\n",
    "    return {\n",
    "        \"scanTemplateId\": data[\"id\"],\n",
    "        \"scanTemplateName\": data[\"name\"],\n",
    "    }"
   ]
  },
  {
   "cell_type": "code",
   "execution_count": null,
   "metadata": {},
   "outputs": [],
   "source": [
    "getAllScanTemplate = getAllScanTemplate()\n",
    "getAllScanTemplate = [extractScanTemplate(data=template) for template in getAllScanTemplate]"
   ]
  },
  {
   "cell_type": "code",
   "execution_count": null,
   "metadata": {},
   "outputs": [],
   "source": [
    "getAllScanTemplate"
   ]
  },
  {
   "cell_type": "code",
   "execution_count": null,
   "metadata": {},
   "outputs": [],
   "source": [
    "getAllScanTemplate_df = pd.DataFrame(getAllScanTemplate)\n",
    "getAllScanTemplate_df"
   ]
  },
  {
   "cell_type": "code",
   "execution_count": null,
   "metadata": {},
   "outputs": [],
   "source": [
    "getAllScanTemplate_df[getAllScanTemplate_df[\"scanTemplateName\"].str.contains(\"Test\")]"
   ]
  },
  {
   "cell_type": "code",
   "execution_count": null,
   "metadata": {},
   "outputs": [],
   "source": [
    "getAllScanTemplate_df[getAllScanTemplate_df[\"scanTemplateName\"].str.contains(\"(Full)|Server\")]"
   ]
  },
  {
   "cell_type": "code",
   "execution_count": null,
   "metadata": {},
   "outputs": [],
   "source": [
    "getAllScanTemplate_df[getAllScanTemplate_df[\"scanTemplateId\"].str.contains('pci-internal-audit-_-cis-policy-_enhanced-log_')]"
   ]
  },
  {
   "cell_type": "code",
   "execution_count": null,
   "metadata": {},
   "outputs": [],
   "source": [
    "def getScanTemplateName(templateId=\"\"):\n",
    "    getScanTemplateNameURL = HOSTNAME + \"api/3/scan_templates/\" + str(templateId)\n",
    "\n",
    "    print(\"\\nGetting Scan Template Name\")\n",
    "    print(\"Hostname : \" + getScanTemplateNameURL)\n",
    "    r = requests.get(getScanTemplateNameURL, headers=HEADER, verify=False)\n",
    "    if r.status_code == 200:\n",
    "        r = r.json()\n",
    "        if \"name\" in r:\n",
    "            return r[\"name\"]\n",
    "        else:\n",
    "            print(\"[Error] Not Found Scan Template\")\n",
    "            sys.exit()\n",
    "    else:\n",
    "        print(\"[Error] Request Connection Error.\")\n",
    "        print(r.status_code)"
   ]
  },
  {
   "cell_type": "code",
   "execution_count": null,
   "metadata": {},
   "outputs": [],
   "source": [
    "templateId = \"pci-internal-audit-_-cis-policy-_enhanced-log_\"\n",
    "getScanTemplateName(templateId=templateId)"
   ]
  },
  {
   "cell_type": "markdown",
   "metadata": {},
   "source": [
    "# Manage Scan Status"
   ]
  },
  {
   "cell_type": "markdown",
   "metadata": {},
   "source": [
    "status : \"pause\", \"stop\", \"resume\""
   ]
  },
  {
   "cell_type": "code",
   "execution_count": null,
   "metadata": {},
   "outputs": [],
   "source": [
    "def manageScanStatus(scanId=\"\", status=\"\"):\n",
    "    manageScanStatusURL = HOSTNAME + \"api/3/scans/\" + str(scanId) + \"/\" + str(status)\n",
    "\n",
    "    print(\"Hostname : \" + manageScanStatusURL)\n",
    "    r = requests.post(manageScanStatusURL, headers=HEADER, verify=False)\n",
    "    if r.status_code == 200:\n",
    "        print(\"[Successful] Update Scan Status\")\n",
    "    else:\n",
    "        print(r.status_code)"
   ]
  },
  {
   "cell_type": "code",
   "execution_count": null,
   "metadata": {},
   "outputs": [],
   "source": [
    "scanId = 12345\n",
    "status = \"pause\""
   ]
  },
  {
   "cell_type": "code",
   "execution_count": null,
   "metadata": {},
   "outputs": [],
   "source": [
    "manageScanStatus(scanId=scanId, status=status)"
   ]
  },
  {
   "cell_type": "markdown",
   "metadata": {},
   "source": [
    "# Get Scan Information By ID"
   ]
  },
  {
   "cell_type": "code",
   "execution_count": null,
   "metadata": {},
   "outputs": [],
   "source": [
    "def getScanInfoById(scanId=\"\"):\n",
    "    getScanByIDURL = HOSTNAME + \"api/3/scans/\" + str(scanId)\n",
    "\n",
    "    print(\"Hostname : \" + getScanByIDURL)\n",
    "    r = requests.get(getScanByIDURL, headers=HEADER, verify=False)\n",
    "    if r.status_code == 200:\n",
    "        r = r.json()\n",
    "        return r\n",
    "    else:\n",
    "        print(r.status_code)"
   ]
  },
  {
   "cell_type": "code",
   "execution_count": null,
   "metadata": {},
   "outputs": [],
   "source": [
    "scanId = 12345"
   ]
  },
  {
   "cell_type": "code",
   "execution_count": null,
   "metadata": {},
   "outputs": [],
   "source": [
    "scanInfo = getScanInfoById(scanId=scanId)\n",
    "scanInfo"
   ]
  },
  {
   "cell_type": "code",
   "execution_count": null,
   "metadata": {},
   "outputs": [],
   "source": []
  }
 ],
 "metadata": {
  "kernelspec": {
   "display_name": "Python 3",
   "language": "python",
   "name": "python3"
  },
  "language_info": {
   "codemirror_mode": {
    "name": "ipython",
    "version": 3
   },
   "file_extension": ".py",
   "mimetype": "text/x-python",
   "name": "python",
   "nbconvert_exporter": "python",
   "pygments_lexer": "ipython3",
   "version": "3.8.8"
  }
 },
 "nbformat": 4,
 "nbformat_minor": 4
}
