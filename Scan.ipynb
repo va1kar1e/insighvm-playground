{
 "cells": [
  {
   "cell_type": "markdown",
   "metadata": {},
   "source": [
    "# Scan"
   ]
  },
  {
   "cell_type": "code",
   "execution_count": null,
   "metadata": {},
   "outputs": [],
   "source": [
    "import sys\n",
    "import pandas as pd\n",
    "import requests, urllib3\n",
    "urllib3.disable_warnings(urllib3.exceptions.InsecureRequestWarning)\n",
    "\n",
    "from insightvm_authen import InsightvmAuthentication"
   ]
  },
  {
   "cell_type": "code",
   "execution_count": null,
   "metadata": {},
   "outputs": [],
   "source": [
    "HOSTNAME = InsightvmAuthentication().getHostname()\n",
    "HEADER = InsightvmAuthentication().getRequestHeader()\n",
    "# HOSTNAME, HEADER"
   ]
  },
  {
   "cell_type": "markdown",
   "metadata": {},
   "source": [
    "# Get All Available Scan Engine Pool"
   ]
  },
  {
   "cell_type": "code",
   "execution_count": null,
   "metadata": {},
   "outputs": [],
   "source": [
    "def getAllAvailableScanEnginePool():\n",
    "    getAllAvailableScanEngineURL = HOSTNAME + \"api/3/scan_engine_pools\"\n",
    "\n",
    "    print(\"Hostname : \" + getAllAvailableScanEngineURL)\n",
    "    r = requests.get(getAllAvailableScanEngineURL, headers=HEADER, verify=False)\n",
    "    if r.status_code == 200:\n",
    "        r = r.json()\n",
    "        return r[\"resources\"]\n",
    "    else:\n",
    "        print(r.status_code)"
   ]
  },
  {
   "cell_type": "code",
   "execution_count": null,
   "metadata": {},
   "outputs": [],
   "source": [
    "def extractScanEnginePool(data={}):\n",
    "    return {\n",
    "        \"poolId\": data[\"id\"],\n",
    "        \"poolName\": data[\"name\"],\n",
    "        \"engines\": data[\"engines\"] if \"engines\" in data else [],\n",
    "        \"sites\": data[\"sites\"] if \"sites\" in data else [],\n",
    "    }"
   ]
  },
  {
   "cell_type": "code",
   "execution_count": null,
   "metadata": {},
   "outputs": [],
   "source": [
    "availableScanEnginePool = getAllAvailableScanEnginePool()\n",
    "availableScanEnginePool = [ extractScanEnginePool(data=pool) for pool in availableScanEnginePool ]"
   ]
  },
  {
   "cell_type": "code",
   "execution_count": null,
   "metadata": {},
   "outputs": [],
   "source": [
    "pd.DataFrame(availableScanEnginePool)"
   ]
  },
  {
   "cell_type": "markdown",
   "metadata": {},
   "source": [
    "# Get All Available Scan Engine"
   ]
  },
  {
   "cell_type": "code",
   "execution_count": null,
   "metadata": {},
   "outputs": [],
   "source": [
    "def getAllAvailableScanEngine():\n",
    "    getAllAvailableScanEngineURL = HOSTNAME + \"api/3/scan_engines\"\n",
    "\n",
    "    print(\"Hostname : \" + getAllAvailableScanEngineURL)\n",
    "    r = requests.get(getAllAvailableScanEngineURL, headers=HEADER, verify=False)\n",
    "    if r.status_code == 200:\n",
    "        r = r.json()\n",
    "        return r[\"resources\"]\n",
    "    else:\n",
    "        print(r.status_code)"
   ]
  },
  {
   "cell_type": "code",
   "execution_count": null,
   "metadata": {},
   "outputs": [],
   "source": [
    "def extractScanEngine(data={}):\n",
    "    return {\n",
    "        \"engineId\": data[\"id\"],\n",
    "        \"engineName\": data[\"name\"],\n",
    "        \"engineStatus\": data[\"status\"],\n",
    "        \"engineIP\": data[\"address\"],\n",
    "        \"enginePort\": data[\"port\"],\n",
    "    }"
   ]
  },
  {
   "cell_type": "code",
   "execution_count": null,
   "metadata": {},
   "outputs": [],
   "source": [
    "availableScanEngine = getAllAvailableScanEngine()\n",
    "availableScanEngine = [ extractScanEngine(data=engine) for engine in availableScanEngine ]"
   ]
  },
  {
   "cell_type": "code",
   "execution_count": null,
   "metadata": {},
   "outputs": [],
   "source": [
    "pd.DataFrame(availableScanEngine)"
   ]
  },
  {
   "cell_type": "code",
   "execution_count": null,
   "metadata": {},
   "outputs": [],
   "source": [
    "def getScanEngineName(engineId=\"\"):\n",
    "    getScanEngineNameURL = HOSTNAME + \"api/3/scan_engines/\" + str(engineId)\n",
    "\n",
    "    print(\"\\nGetting Scan Engine Name\")\n",
    "    print(\"Hostname : \" + getScanEngineNameURL)\n",
    "    r = requests.get(getScanEngineNameURL, headers=HEADER, verify=False)\n",
    "    if r.status_code == 200:\n",
    "        r = r.json()\n",
    "        if \"name\" in r:\n",
    "            return r[\"name\"]\n",
    "        else:\n",
    "            print(\"[Error] Not Found Scan Engine\")\n",
    "            sys.exit()\n",
    "    else:\n",
    "        print(\"[Error] Request Connection Error.\")\n",
    "        print(r.status_code)"
   ]
  },
  {
   "cell_type": "code",
   "execution_count": null,
   "metadata": {},
   "outputs": [],
   "source": [
    "engineId = \"1\"\n",
    "getScanEngineName(engineId=engineId)"
   ]
  },
  {
   "cell_type": "markdown",
   "metadata": {},
   "source": [
    "# Get All Scan Templates"
   ]
  },
  {
   "cell_type": "code",
   "execution_count": null,
   "metadata": {},
   "outputs": [],
   "source": [
    "def getAllScanTemplate():\n",
    "    getAllScanTemplateURL = HOSTNAME + \"api/3/scan_templates\"\n",
    "\n",
    "    print(\"Hostname : \" + getAllScanTemplateURL)\n",
    "    r = requests.get(getAllScanTemplateURL, headers=HEADER, verify=False)\n",
    "    if r.status_code == 200:\n",
    "        r = r.json()\n",
    "        return r[\"resources\"]\n",
    "    else:\n",
    "        print(r.status_code)"
   ]
  },
  {
   "cell_type": "code",
   "execution_count": null,
   "metadata": {},
   "outputs": [],
   "source": [
    "def extractScanTemplate(data={}):\n",
    "    return {\n",
    "        \"scanTemplateId\": data[\"id\"],\n",
    "        \"scanTemplateName\": data[\"name\"],\n",
    "    }"
   ]
  },
  {
   "cell_type": "code",
   "execution_count": null,
   "metadata": {},
   "outputs": [],
   "source": [
    "getAllScanTemplate = getAllScanTemplate()\n",
    "getAllScanTemplate = [extractScanTemplate(data=template) for template in getAllScanTemplate]"
   ]
  },
  {
   "cell_type": "code",
   "execution_count": null,
   "metadata": {},
   "outputs": [],
   "source": [
    "getAllScanTemplate"
   ]
  },
  {
   "cell_type": "code",
   "execution_count": null,
   "metadata": {},
   "outputs": [],
   "source": [
    "getAllScanTemplate_df = pd.DataFrame(getAllScanTemplate)\n",
    "getAllScanTemplate_df"
   ]
  },
  {
   "cell_type": "code",
   "execution_count": null,
   "metadata": {},
   "outputs": [],
   "source": [
    "getAllScanTemplate_df[getAllScanTemplate_df[\"scanTemplateName\"].str.contains(\"Test\")]"
   ]
  },
  {
   "cell_type": "code",
   "execution_count": null,
   "metadata": {},
   "outputs": [],
   "source": [
    "getAllScanTemplate_df[getAllScanTemplate_df[\"scanTemplateName\"].str.contains(\"(Full)|Server\")]"
   ]
  },
  {
   "cell_type": "code",
   "execution_count": null,
   "metadata": {},
   "outputs": [],
   "source": [
    "getAllScanTemplate_df[getAllScanTemplate_df[\"scanTemplateId\"].str.contains('pci-internal-audit-_-cis-policy-_enhanced-log_')]"
   ]
  },
  {
   "cell_type": "code",
   "execution_count": null,
   "metadata": {},
   "outputs": [],
   "source": [
    "def getScanTemplateName(templateId=\"\"):\n",
    "    getScanTemplateNameURL = HOSTNAME + \"api/3/scan_templates/\" + str(templateId)\n",
    "\n",
    "    print(\"\\nGetting Scan Template Name\")\n",
    "    print(\"Hostname : \" + getScanTemplateNameURL)\n",
    "    r = requests.get(getScanTemplateNameURL, headers=HEADER, verify=False)\n",
    "    if r.status_code == 200:\n",
    "        r = r.json()\n",
    "        if \"name\" in r:\n",
    "            return r[\"name\"]\n",
    "        else:\n",
    "            print(\"[Error] Not Found Scan Template\")\n",
    "            sys.exit()\n",
    "    else:\n",
    "        print(\"[Error] Request Connection Error.\")\n",
    "        print(r.status_code)"
   ]
  },
  {
   "cell_type": "code",
   "execution_count": null,
   "metadata": {},
   "outputs": [],
   "source": [
    "templateId = \"pci-internal-audit-_-cis-policy-_enhanced-log_\"\n",
    "getScanTemplateName(templateId=templateId)"
   ]
  },
  {
   "cell_type": "markdown",
   "metadata": {},
   "source": [
    "# Manage Scan Status"
   ]
  },
  {
   "cell_type": "markdown",
   "metadata": {},
   "source": [
    "status : \"pause\", \"stop\", \"resume\""
   ]
  },
  {
   "cell_type": "code",
   "execution_count": null,
   "metadata": {},
   "outputs": [],
   "source": [
    "def manageScanStatus(scanId=\"\", status=\"\"):\n",
    "    manageScanStatusURL = HOSTNAME + \"api/3/scans/\" + str(scanId) + \"/\" + str(status)\n",
    "\n",
    "    print(\"Hostname : \" + manageScanStatusURL)\n",
    "    r = requests.post(manageScanStatusURL, headers=HEADER, verify=False)\n",
    "    if r.status_code == 200:\n",
    "        print(\"[Successful] Update Scan Status\")\n",
    "    else:\n",
    "        print(r.status_code)"
   ]
  },
  {
   "cell_type": "code",
   "execution_count": null,
   "metadata": {},
   "outputs": [],
   "source": [
    "scanId = 12345\n",
    "status = \"pause\""
   ]
  },
  {
   "cell_type": "code",
   "execution_count": null,
   "metadata": {},
   "outputs": [],
   "source": [
    "manageScanStatus(scanId=scanId, status=status)"
   ]
  },
  {
   "cell_type": "markdown",
   "metadata": {},
   "source": [
    "# Get Scan Information By ID"
   ]
  },
  {
   "cell_type": "code",
   "execution_count": null,
   "metadata": {},
   "outputs": [],
   "source": [
    "def getScanInfoById(scanId=\"\"):\n",
    "    getScanByIDURL = HOSTNAME + \"api/3/scans/\" + str(scanId)\n",
    "\n",
    "    print(\"Hostname : \" + getScanByIDURL)\n",
    "    r = requests.get(getScanByIDURL, headers=HEADER, verify=False)\n",
    "    if r.status_code == 200:\n",
    "        r = r.json()\n",
    "        return r\n",
    "    else:\n",
    "        print(r.status_code)"
   ]
  },
  {
   "cell_type": "code",
   "execution_count": null,
   "metadata": {},
   "outputs": [],
   "source": [
    "scanId = 12345"
   ]
  },
  {
   "cell_type": "code",
   "execution_count": null,
   "metadata": {},
   "outputs": [],
   "source": [
    "scanInfo = getScanInfoById(scanId=scanId)\n",
    "scanInfo"
   ]
  },
  {
   "cell_type": "code",
   "execution_count": null,
   "metadata": {},
   "outputs": [],
   "source": []
  }
 ],
 "metadata": {
  "kernelspec": {
   "display_name": "Python 3",
   "language": "python",
   "name": "python3"
  },
  "language_info": {
   "codemirror_mode": {
    "name": "ipython",
    "version": 3
   },
   "file_extension": ".py",
   "mimetype": "text/x-python",
   "name": "python",
   "nbconvert_exporter": "python",
   "pygments_lexer": "ipython3",
   "version": "3.8.3"
  }
 },
 "nbformat": 4,
 "nbformat_minor": 4
}
