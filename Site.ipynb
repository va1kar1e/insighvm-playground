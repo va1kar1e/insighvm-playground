{
 "cells": [
  {
   "cell_type": "markdown",
   "metadata": {},
   "source": [
    "# Site"
   ]
  },
  {
   "cell_type": "code",
   "execution_count": null,
   "metadata": {},
   "outputs": [],
   "source": [
    "import sys\n",
    "import json\n",
    "import datetime\n",
    "import pandas as pd\n",
    "import requests, urllib3\n",
    "urllib3.disable_warnings(urllib3.exceptions.InsecureRequestWarning)\n",
    "\n",
    "from insightvm_authen import InsightvmAuthentication"
   ]
  },
  {
   "cell_type": "code",
   "execution_count": null,
   "metadata": {},
   "outputs": [],
   "source": [
    "HOSTNAME = InsightvmAuthentication().getHostname()\n",
    "HEADER = InsightvmAuthentication().getRequestHeader()\n",
    "# HOSTNAME, HEADER"
   ]
  },
  {
   "cell_type": "markdown",
   "metadata": {},
   "source": [
    "# Create Site Scan"
   ]
  },
  {
   "cell_type": "code",
   "execution_count": null,
   "metadata": {},
   "outputs": [],
   "source": [
    "def createSiteScan(siteName=\"\", templateId=\"\", engineId=\"\", includeAssetIP=[], includedAssetGroups=[], excludeAssetIP=[], excludedAssetGroups=[]):\n",
    "    createSiteScanURL = HOSTNAME + \"api/3/sites/\"\n",
    "\n",
    "    print(\"\\nCreate New Site Scan\")\n",
    "    print(\"Hostname : \" + createSiteScanURL)\n",
    "    \n",
    "    payloads = {\n",
    "        \"description\": \"\",\n",
    "        \"name\": siteName,\n",
    "        \"engineId\": str(engineId),\n",
    "        \"scan\": {\n",
    "            \"assets\" : {\n",
    "                \"includedTargets\" : {},\n",
    "                \"excludeAssetIP\" : {},\n",
    "                \"includedAssetGroups\" : {},\n",
    "                \"excludedAssetGroups\" : {}\n",
    "            }\n",
    "        },\n",
    "        \"scanTemplateId\": str(templateId)\n",
    "    }\n",
    "    \n",
    "    if includeAssetIP!=[]:\n",
    "        payloads[\"scan\"][\"assets\"][\"includedTargets\"][\"addresses\"] = includeAssetIP\n",
    "    if excludeAssetIP!=[]:\n",
    "        payloads[\"scan\"][\"assets\"][\"excludeAssetIP\"][\"addresses\"] = excludeAssetIP\n",
    "    if includedAssetGroups!=[]:\n",
    "        payloads[\"scan\"][\"assets\"][\"includedAssetGroups\"][\"assetGroupIDs\"] = includedAssetGroups\n",
    "    if excludedAssetGroups!=[]:\n",
    "        payloads[\"scan\"][\"assets\"][\"excludedAssetGroups\"][\"assetGroupIDs\"] = excludeAssetIP\n",
    "\n",
    "#     print(payloads)\n",
    "    r = requests.post(createSiteScanURL, data=json.dumps(payloads), headers=HEADER, verify=False)\n",
    "    if r.status_code == 201:\n",
    "        r = r.json()\n",
    "        if \"id\" in r:\n",
    "            print(\"[Successful] Create Site Scan ID : \" + str(id))\n",
    "            return r[\"id\"]\n",
    "        else:\n",
    "            print(\"[Error] Can not start a site scan\")\n",
    "            sys.exit()\n",
    "    else:\n",
    "        print(r.status_code)\n",
    "        print(r.text)"
   ]
  },
  {
   "cell_type": "code",
   "execution_count": null,
   "metadata": {},
   "outputs": [],
   "source": [
    "siteName = \"Test Jenkins\"\n",
    "templateId = \"test-get-os-\"\n",
    "engineId = \"1\""
   ]
  },
  {
   "cell_type": "code",
   "execution_count": null,
   "metadata": {},
   "outputs": [],
   "source": [
    "includeAssetIP = [\"192.168.1.1\", \"192.168.1.2\", \"192.168.1.3\"]\n",
    "includedAssetGroups = []\n",
    "excludeAssetIP = []\n",
    "excludedAssetGroups = []\n"
   ]
  },
  {
   "cell_type": "code",
   "execution_count": null,
   "metadata": {},
   "outputs": [],
   "source": [
    "siteID = createSiteScan(siteName=siteName, templateId=templateId, engineId=engineId, includeAssetIP=includeAssetIP)\n",
    "siteID"
   ]
  },
  {
   "cell_type": "markdown",
   "metadata": {},
   "source": [
    "# Define Site Scan Credential"
   ]
  },
  {
   "cell_type": "code",
   "execution_count": null,
   "metadata": {},
   "outputs": [],
   "source": [
    "def addSiteScanCredential(siteId=\"\", credentialName=\"\", credentialAccount={}, assetIP=\"\"):\n",
    "    addSiteScanCredentialURL = HOSTNAME + \"api/3/sites/\" + str(siteId) + \"/site_credentials/\"\n",
    "    \n",
    "    payloads = {\n",
    "        \"account\": credentialAccount,\n",
    "        \"description\": \"\",\n",
    "        \"enable\": \"true\",\n",
    "        \"hostRestriction\": assetIP,\n",
    "        \"name\": credentialName\n",
    "    }\n",
    "\n",
    "\n",
    "    r = requests.post(addSiteScanCredentialURL, data=json.dumps(payloads), headers=HEADER,  verify=False)\n",
    "    if r.status_code == 201:\n",
    "        r = r.json()\n",
    "        if \"id\" in r:\n",
    "            print(\"[Successful] Create Site Scan ID : \" + str(id))\n",
    "            return r[\"id\"]\n",
    "        else:\n",
    "            print(\"[Error] Can not start a site scan\")\n",
    "            sys.exit()"
   ]
  },
  {
   "cell_type": "code",
   "execution_count": null,
   "metadata": {},
   "outputs": [],
   "source": [
    "def generateWindowsCredentialAccount(domain=\"\", username=\"\", password=\"\"):\n",
    "    credentialAccount = {\n",
    "        \"service\": \"cifs\", \n",
    "        \"username\": username,\n",
    "        \"password\": password \n",
    "    }\n",
    "    \n",
    "    if domain != \"\":\n",
    "        credentialAccount[\"domain\"] = domain\n",
    "    \n",
    "    return credentialAccount"
   ]
  },
  {
   "cell_type": "code",
   "execution_count": null,
   "metadata": {},
   "outputs": [],
   "source": [
    "def generateLinuxCredentialAccount(username=\"\", password=\"\", permissionElevationId=0, permissionElevationUsername=\"\"):\n",
    "    credentialAccount = {\n",
    "        \"service\": \"ssh\", \n",
    "        \"username\": username,\n",
    "        \"password\": password \n",
    "    }\n",
    "    \n",
    "    permissionElevations = [\"none\", \"sudo\", \"sudosu\", \"su\", \"pbrun\", \"privileged-exec\"]\n",
    "    \n",
    "    if permissionElevationId != 0:\n",
    "        credentialAccount[\"permissionElevations\"] = permissionElevations[\"permissionElevationId\"]\n",
    "        credentialAccount[\"permissionElevationUsername\"] = permissionElevationUsername\n",
    "    \n",
    "    return credentialAccount"
   ]
  },
  {
   "cell_type": "code",
   "execution_count": null,
   "metadata": {},
   "outputs": [],
   "source": [
    "def generateOracleDBCredentialAccount(sid=\"\", username=\"\", password=\"\"):\n",
    "    credentialAccount = {\n",
    "        \"service\": \"oracle\", \n",
    "        \"username\": username,\n",
    "        \"password\": password \n",
    "    }\n",
    "    \n",
    "    if sid != \"\":\n",
    "        credentialAccount[\"sid\"] = sid\n",
    "    \n",
    "    return credentialAccount"
   ]
  },
  {
   "cell_type": "code",
   "execution_count": null,
   "metadata": {},
   "outputs": [],
   "source": [
    "def generateMySQLCredentialAccount(database=\"\", username=\"\", password=\"\"):\n",
    "    credentialAccount = {\n",
    "        \"service\": \"mysql\", \n",
    "        \"username\": username,\n",
    "        \"password\": password \n",
    "    }\n",
    "    \n",
    "    if database != \"\":\n",
    "        credentialAccount[\"database\"] = database\n",
    "    \n",
    "    return credentialAccount"
   ]
  },
  {
   "cell_type": "code",
   "execution_count": null,
   "metadata": {},
   "outputs": [],
   "source": [
    "def generateMsSQLCredentialAccount(database=\"\", username=\"\", password=\"\", useWindowsAuthentication=False, domain=\"\"):\n",
    "    credentialAccount = {\n",
    "        \"service\": \"ms-sql\", \n",
    "        \"username\": username,\n",
    "        \"password\": password \n",
    "    }\n",
    "    \n",
    "    if database != \"\":\n",
    "        credentialAccount[\"database\"] = database\n",
    "        \n",
    "    if useWindowsAuthentication:\n",
    "        credentialAccount[\"useWindowsAuthentication\"] = \"true\"\n",
    "        credentialAccount[\"domain\"] = domain\n",
    "    \n",
    "    return credentialAccount"
   ]
  },
  {
   "cell_type": "code",
   "execution_count": null,
   "metadata": {},
   "outputs": [],
   "source": [
    "def generateDB2CredentialAccount(database=\"\", username=\"\", password=\"\"):\n",
    "    credentialAccount = {\n",
    "        \"service\": \"db2\", \n",
    "        \"username\": username,\n",
    "        \"password\": password \n",
    "    }\n",
    "    \n",
    "    if database != \"\":\n",
    "        credentialAccount[\"database\"] = database\n",
    "    \n",
    "    return credentialAccount"
   ]
  },
  {
   "cell_type": "code",
   "execution_count": null,
   "metadata": {},
   "outputs": [],
   "source": [
    "def generatePostgreSQLCredentialAccount(database=\"\", username=\"\", password=\"\"):\n",
    "    credentialAccount = {\n",
    "        \"service\": \"postgresql\", \n",
    "        \"username\": username,\n",
    "        \"password\": password \n",
    "    }\n",
    "    \n",
    "    if database != \"\":\n",
    "        credentialAccount[\"database\"] = database\n",
    "    \n",
    "    return credentialAccount"
   ]
  },
  {
   "cell_type": "code",
   "execution_count": null,
   "metadata": {},
   "outputs": [],
   "source": [
    "def generateTelnetCredentialAccount(username=\"\", password=\"\"):\n",
    "    credentialAccount = {\n",
    "        \"service\": \"telnet \", \n",
    "        \"username\": username,\n",
    "        \"password\": password \n",
    "    }\n",
    "    \n",
    "    return credentialAccount"
   ]
  },
  {
   "cell_type": "code",
   "execution_count": null,
   "metadata": {},
   "outputs": [],
   "source": [
    "siteId=\"\"\n",
    "credentialName=\"\"\n",
    "assetIP=\"\""
   ]
  },
  {
   "cell_type": "code",
   "execution_count": null,
   "metadata": {},
   "outputs": [],
   "source": [
    "credentialAccount = generateWindowsCredentialAccount(username=\"\", password=\"\")"
   ]
  },
  {
   "cell_type": "code",
   "execution_count": null,
   "metadata": {},
   "outputs": [],
   "source": [
    "addSiteScanCredential(siteId=siteId, credentialName=credentialName, credentialAccount=credentialAccount, assetIP=assetIP)"
   ]
  },
  {
   "cell_type": "markdown",
   "metadata": {},
   "source": [
    "# Get Site Information By Site ID"
   ]
  },
  {
   "cell_type": "code",
   "execution_count": null,
   "metadata": {},
   "outputs": [],
   "source": [
    "def getSiteInfoById(siteId=\"\"):\n",
    "    getSiteInfoByIdURL = HOSTNAME + \"api/3/sites/\" + str(siteId)\n",
    "\n",
    "    print(\"Hostname : \" + getSiteInfoByIdURL)\n",
    "    r = requests.get(getSiteInfoByIdURL, headers=HEADER, verify=False)\n",
    "    if r.status_code == 200:\n",
    "        r = r.json()\n",
    "        return r\n",
    "    else:\n",
    "        print(r.status_code)"
   ]
  },
  {
   "cell_type": "code",
   "execution_count": null,
   "metadata": {},
   "outputs": [],
   "source": [
    "def extractSiteInfo(data={}):\n",
    "    return {\n",
    "        \"siteId\": data[\"id\"],\n",
    "        \"siteName\": data[\"name\"],\n",
    "        \"siteRiskScore\": data[\"riskScore\"],\n",
    "        \"scanTemplateId\": data[\"scanTemplate\"],\n",
    "        \"scanEngineId\": data[\"scanEngine\"],\n",
    "        \"siteLastScanTime\": data[\"lastScanTime\"],\n",
    "        \"siteVulnerabilities\": data[\"vulnerabilities\"]\n",
    "    }"
   ]
  },
  {
   "cell_type": "code",
   "execution_count": null,
   "metadata": {},
   "outputs": [],
   "source": [
    "siteId = \"1234\""
   ]
  },
  {
   "cell_type": "code",
   "execution_count": null,
   "metadata": {},
   "outputs": [],
   "source": [
    "siteInfo = getSiteInfoById(siteId=siteId)\n",
    "# siteInfo =  extractSiteInfo(data=siteInfo)"
   ]
  },
  {
   "cell_type": "code",
   "execution_count": null,
   "metadata": {},
   "outputs": [],
   "source": [
    "del siteInfo[\"links\"]\n",
    "pd.DataFrame([siteInfo])"
   ]
  },
  {
   "cell_type": "markdown",
   "metadata": {},
   "source": [
    "# Start Site Scans"
   ]
  },
  {
   "cell_type": "code",
   "execution_count": null,
   "metadata": {},
   "outputs": [],
   "source": [
    "def startSiteScanID(siteID=\"\", scanName=\"\", templateId=\"\", engineId=\"\", hosts=[], assetGroupIds=[]):\n",
    "    scanURL = HOSTNAME + \"api/3/sites/\" + str(siteId) + \"/scans\"\n",
    "\n",
    "    print(\"\\nStart New Site Scan\")\n",
    "    print(\"Hostname : \" + scanURL)\n",
    "\n",
    "    params = {\n",
    "        \"overrideBlackout\" : \"false\"\n",
    "    }\n",
    "    \n",
    "    payloads = {\n",
    "        \"name\" : str(scanName),\n",
    "        \"templateId\" : str(templateId),\n",
    "        \"engineId\" : str(engineId)\n",
    "    }\n",
    "    \n",
    "    if hosts != []:\n",
    "        payloads[\"hosts\"] = hosts\n",
    "    if assetGroupIds != []:\n",
    "        payloads[\"assetGroupIds\"] = assetGroupIds\n",
    "    \n",
    "    try:\n",
    "        r = requests.post(scanURL, data=json.dumps(payloads), headers=HEADER, verify=False, timeout=60)\n",
    "        if r.status_code == 200:\n",
    "            r = r.json()\n",
    "            if \"id\" in r:\n",
    "                print(\"[Successful] ScanId : \" + str(id))\n",
    "                return r[\"id\"]\n",
    "            else:\n",
    "                print(\"[Error] Can not start a site scan\")\n",
    "                sys.exit()\n",
    "    except requests.exceptions.ReadTimeout: \n",
    "        print(\"[Time Out] Don't wait for response\")"
   ]
  },
  {
   "cell_type": "code",
   "execution_count": null,
   "metadata": {},
   "outputs": [],
   "source": [
    "siteID = \"1234\"\n",
    "scanName = \"jenkins-test-001\"\n",
    "templateId = \"test-get-os-version\"\n",
    "engineId = \"1\"\n",
    "hosts = []\n",
    "assetGroupIds = []"
   ]
  },
  {
   "cell_type": "code",
   "execution_count": null,
   "metadata": {},
   "outputs": [],
   "source": [
    "scanId = startSiteScanID(siteID=siteID, scanName=scanName, templateId=templateId, engineId=engineId, hosts=hosts, assetGroupIds=assetGroupIds)\n",
    "scanId"
   ]
  },
  {
   "cell_type": "code",
   "execution_count": null,
   "metadata": {},
   "outputs": [],
   "source": []
  },
  {
   "cell_type": "markdown",
   "metadata": {},
   "source": [
    "# Check Site Scan Status"
   ]
  },
  {
   "cell_type": "code",
   "execution_count": null,
   "metadata": {},
   "outputs": [],
   "source": [
    "def getSiteScanStatus(siteId=\"\", activeSite=\"\"):\n",
    "    getSiteScanStatusURL = HOSTNAME + \"api/3/sites/\" + str(siteId) + \"/scans\"\n",
    "    print(\"Hostname : \" + getSiteScanStatusURL)\n",
    "    \n",
    "    params = {\n",
    "        \"active\" : str(activeSite),\n",
    "        \"page\" : \"0\",\n",
    "        \"size\" : \"1\",\n",
    "        \"sort\" : \"ASC\" \n",
    "    }\n",
    "    \n",
    "    r = requests.get(getSiteScanStatusURL, params=params, headers=HEADER, verify=False)\n",
    "    \n",
    "    if r.status_code == 200:\n",
    "        r = r.json()\n",
    "        if \"resources\" in r and r[\"resources\"] != []:\n",
    "            return r[\"resources\"]\n",
    "        else:\n",
    "            print(\"[Error] Not Found Active Scan\")\n",
    "    else:\n",
    "        print(\"[Error] Request Connection Error.\")\n",
    "        print(r.status_code)\n",
    "        print(r.text)"
   ]
  },
  {
   "cell_type": "code",
   "execution_count": null,
   "metadata": {},
   "outputs": [],
   "source": [
    "siteId = \"1289\"\n",
    "\n",
    "activeSite = \"true\"\n",
    "# activeSite=\"false\""
   ]
  },
  {
   "cell_type": "code",
   "execution_count": null,
   "metadata": {},
   "outputs": [],
   "source": [
    "siteScanStatus = getSiteScanStatus(siteId=siteId, activeSite=activeSite)"
   ]
  },
  {
   "cell_type": "code",
   "execution_count": null,
   "metadata": {},
   "outputs": [],
   "source": [
    "def convertToTimeFormat(time=None):\n",
    "    fromTime = datetime.datetime.strptime(time, \"%Y-%m-%dT%H:%M:%S.%fZ\")\n",
    "    return str(datetime.datetime.strftime(fromTime, '%Y-%m-%d %H:%M:%S'))"
   ]
  },
  {
   "cell_type": "code",
   "execution_count": null,
   "metadata": {},
   "outputs": [],
   "source": [
    "siteScanStatus[0][\"id\"], siteScanStatus[0][\"status\"], convertToTimeFormat(time=siteScanStatus[0][\"startTime\"])"
   ]
  },
  {
   "cell_type": "code",
   "execution_count": null,
   "metadata": {},
   "outputs": [],
   "source": [
    "pd.DataFrame(siteScanStatus)"
   ]
  },
  {
   "cell_type": "code",
   "execution_count": null,
   "metadata": {},
   "outputs": [],
   "source": []
  }
 ],
 "metadata": {
  "kernelspec": {
   "display_name": "Python 3",
   "language": "python",
   "name": "python3"
  },
  "language_info": {
   "codemirror_mode": {
    "name": "ipython",
    "version": 3
   },
   "file_extension": ".py",
   "mimetype": "text/x-python",
   "name": "python",
   "nbconvert_exporter": "python",
   "pygments_lexer": "ipython3",
   "version": "3.8.3"
  }
 },
 "nbformat": 4,
 "nbformat_minor": 4
}
