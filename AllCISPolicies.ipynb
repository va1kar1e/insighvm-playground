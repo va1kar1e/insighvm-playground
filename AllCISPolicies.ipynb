{
 "cells": [
  {
   "cell_type": "markdown",
   "metadata": {},
   "source": [
    "# Get All Custom CIS Policies"
   ]
  },
  {
   "cell_type": "code",
   "execution_count": null,
   "metadata": {},
   "outputs": [],
   "source": [
    "import sys\n",
    "import json\n",
    "import datetime\n",
    "import requests, urllib3\n",
    "urllib3.disable_warnings(urllib3.exceptions.InsecureRequestWarning)\n",
    "\n",
    "from insightvm_authen import InsightvmAuthentication"
   ]
  },
  {
   "cell_type": "code",
   "execution_count": null,
   "metadata": {},
   "outputs": [],
   "source": [
    "HOSTNAME = InsightvmAuthentication().getHostname()\n",
    "HEADER = InsightvmAuthentication().getRequestHeader()\n",
    "# HOSTNAME, HEADER"
   ]
  },
  {
   "cell_type": "code",
   "execution_count": null,
   "metadata": {},
   "outputs": [],
   "source": [
    "def getAllCISPolicies():\n",
    "    policies = []\n",
    "    page, totalPages, totalResources = 0, 99, 0\n",
    "    while page <= totalPages:\n",
    "        getAssetSearchURL = HOSTNAME + \"api/3/policies?size=500&sort=ASC&scannedOnly=true&page=\" + str(page)\n",
    "\n",
    "        print(\"Hostname : \" + getAssetSearchURL)\n",
    "        r = requests.get(getAssetSearchURL, headers=HEADER, verify=False)\n",
    "        if r.status_code == 200:\n",
    "            r = r.json()\n",
    "            policies += [res[\"title\"] for res in r[\"resources\"] if \"CIS\" in res[\"title\"] or \"SCB\" in res[\"title\"]]\n",
    "            if page == 0:\n",
    "                totalPages, totalResources = r[\"page\"][\"totalPages\"], r[\"page\"][\"totalResources\"]\n",
    "        else:\n",
    "            print(\"[Error] Request Connection Error.\")\n",
    "            sys.exit()\n",
    "        page += 1\n",
    "\n",
    "    print(\"Total \" + str(len(policies)) + \" of \" + str(totalResources))\n",
    "    return sorted(policies)"
   ]
  },
  {
   "cell_type": "code",
   "execution_count": null,
   "metadata": {},
   "outputs": [],
   "source": [
    "getPolicies = getAllCISPolicies()\n",
    "getPolicies = list(set(getPolicies))"
   ]
  },
  {
   "cell_type": "code",
   "execution_count": null,
   "metadata": {},
   "outputs": [],
   "source": [
    "len(getPolicies), getPolicies"
   ]
  },
  {
   "cell_type": "code",
   "execution_count": null,
   "metadata": {},
   "outputs": [],
   "source": [
    "nowTime = datetime.datetime.now().strftime(\"(%y%m%d-%H%M%S) \")\n",
    "filepath=\"outputs/\" + nowTime + \"allCISPolicies\" + \".json\""
   ]
  },
  {
   "cell_type": "code",
   "execution_count": null,
   "metadata": {},
   "outputs": [],
   "source": [
    "with open(filepath, 'w', encoding=\"utf8\") as f:\n",
    "    f.write(json.dumps(getPolicies, indent=4))\n",
    "print(\"\\n[Success Exporting] \" + filepath)"
   ]
  },
  {
   "cell_type": "markdown",
   "metadata": {},
   "source": [
    "## Update Policy Config"
   ]
  },
  {
   "cell_type": "code",
   "execution_count": null,
   "metadata": {},
   "outputs": [],
   "source": []
  },
  {
   "cell_type": "code",
   "execution_count": null,
   "metadata": {},
   "outputs": [],
   "source": []
  },
  {
   "cell_type": "code",
   "execution_count": null,
   "metadata": {},
   "outputs": [],
   "source": []
  }
 ],
 "metadata": {
  "kernelspec": {
   "display_name": "Python 3",
   "language": "python",
   "name": "python3"
  },
  "language_info": {
   "codemirror_mode": {
    "name": "ipython",
    "version": 3
   },
   "file_extension": ".py",
   "mimetype": "text/x-python",
   "name": "python",
   "nbconvert_exporter": "python",
   "pygments_lexer": "ipython3",
   "version": "3.8.3"
  }
 },
 "nbformat": 4,
 "nbformat_minor": 4
}
