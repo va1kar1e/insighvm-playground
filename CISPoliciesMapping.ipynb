{
 "cells": [
  {
   "cell_type": "markdown",
   "metadata": {},
   "source": [
    "# Merging and Mapping CISPolicies and Score of Assets in sitescans"
   ]
  },
  {
   "cell_type": "code",
   "execution_count": null,
   "metadata": {},
   "outputs": [],
   "source": [
    "import sys\n",
    "import time, datetime\n",
    "import pandas as pd\n",
    "import requests\n",
    "import urllib3\n",
    "urllib3.disable_warnings(urllib3.exceptions.InsecureRequestWarning)\n",
    "\n",
    "from insightvm_authen import InsightvmAuthentication"
   ]
  },
  {
   "cell_type": "code",
   "execution_count": null,
   "metadata": {},
   "outputs": [],
   "source": [
    "HOSTNAME = InsightvmAuthentication().getHostname()\n",
    "HEADER = InsightvmAuthentication().getRequestHeader()\n",
    "# HOSTNAME, HEADER"
   ]
  },
  {
   "cell_type": "code",
   "execution_count": null,
   "metadata": {},
   "outputs": [],
   "source": [
    "def getAssetsInSite(siteID=\"\"):\n",
    "    assets, page = [], 0\n",
    "    print(\"\\nGetting Assets of Your Site\")\n",
    "    while True:\n",
    "        getAssetsInSiteURL = HOSTNAME + \"api/3/sites/\" + str(siteID) + \"/assets?size=100&page=\" + str(page)\n",
    "        print(\"Hostname : \" + getAssetsInSiteURL)\n",
    "        assetInPage = requests.get(getAssetsInSiteURL, headers=HEADER, verify=False)\n",
    "        if assetInPage.status_code == 200:\n",
    "            assetInPage = assetInPage.json()\n",
    "            if assetInPage[\"page\"][\"totalResources\"] == 0:\n",
    "                print(\"[Not Found] Don't have assets in your site ID\")\n",
    "                sys.exit()\n",
    "            assets += [[asset[\"ip\"], asset[\"id\"]] for asset in assetInPage[\"resources\"]]\n",
    "            if (assetInPage[\"page\"][\"totalPages\"] == page+1) and (assetInPage[\"page\"][\"totalResources\"] == len(assets)):\n",
    "                return assets\n",
    "            else:\n",
    "                page += 1\n",
    "        else:\n",
    "            print(\"[Error] Request Connection Error.\")\n",
    "            print(assetInPage.status_code())\n",
    "            sys.exit()"
   ]
  },
  {
   "cell_type": "code",
   "execution_count": null,
   "metadata": {},
   "outputs": [],
   "source": [
    "siteIDs = ['1234']"
   ]
  },
  {
   "cell_type": "code",
   "execution_count": null,
   "metadata": {},
   "outputs": [],
   "source": [
    "siteID = siteIDs[0]\n",
    "assets = getAssetsInSite(siteID=siteID)\n",
    "len(assets), assets"
   ]
  },
  {
   "cell_type": "code",
   "execution_count": null,
   "metadata": {},
   "outputs": [],
   "source": [
    "def extractCISPolicy(data={}):\n",
    "    return {\n",
    "        \"surrogateId\": str(data[\"surrogateId\"]),\n",
    "        \"policyID\":data[\"id\"],\n",
    "        \"policyName\":data[\"policyName\"],\n",
    "        \"ruleCompliance\":data[\"ruleCompliance\"],\n",
    "        \"policyTitle\":data['title'],\n",
    "        \"benchmarkName\":data[\"benchmarkName\"],\n",
    "        \"failedRulesCount\": data[\"failedRulesCount\"],\n",
    "        \"passedRulesCount\": data[\"passedRulesCount\"]\n",
    "    }"
   ]
  },
  {
   "cell_type": "code",
   "execution_count": null,
   "metadata": {},
   "outputs": [],
   "source": [
    "def getCISPoliciesofAsset(assetID=None):\n",
    "    getCISPoliciesofAssetURL = HOSTNAME + 'api/3/assets/' + \\\n",
    "        str(assetID) + '/policies?applicableOnly=true&page=0&size=500'\n",
    "    print(\"Hostname : \" + getCISPoliciesofAssetURL)\n",
    "    CISPoliciesofAsset = requests.get(getCISPoliciesofAssetURL,\n",
    "                                      headers=HEADER, verify=False)\n",
    "    CISPoliciesofAsset = CISPoliciesofAsset.json()\n",
    "    if CISPoliciesofAsset[\"page\"][\"totalPages\"] == 1:\n",
    "        print(\"Getting Successful.\")\n",
    "        return [extractCISPolicy(data=b) for b in CISPoliciesofAsset[\"resources\"]]\n",
    "    else:\n",
    "        print(\"[Error] Not Found CIS Policie.\")"
   ]
  },
  {
   "cell_type": "code",
   "execution_count": null,
   "metadata": {},
   "outputs": [],
   "source": [
    "def getCISPoliciesofAssets(assets=[]):\n",
    "    assetsPolicies, policies = [], []\n",
    "    for asset in assets:\n",
    "        time.sleep(2)\n",
    "        policy = getCISPoliciesofAsset(assetID=asset[1])\n",
    "        assetsPolicies.append({\n",
    "            \"ip\": asset[0],\n",
    "            \"assetid\": asset[1],\n",
    "            \"policies\": policy\n",
    "        })\n",
    "        if policy:\n",
    "            policies += [p[\"policyTitle\"] for p in policy]\n",
    "    return assetsPolicies, policies"
   ]
  },
  {
   "cell_type": "code",
   "execution_count": null,
   "metadata": {},
   "outputs": [],
   "source": [
    "def findPolicyInAsset(data=[], policy=\"\"):\n",
    "    for p in data:\n",
    "        if p[\"policyTitle\"].lower() == policy.lower():\n",
    "            return str(p[\"ruleCompliance\"])\n",
    "    return str(0)"
   ]
  },
  {
   "cell_type": "code",
   "execution_count": null,
   "metadata": {},
   "outputs": [],
   "source": [
    "def extractRowfromData(data={}, all_policies=[]):\n",
    "    data_extract = []\n",
    "    if data['policies'] != None:\n",
    "        for a_pol in all_policies:\n",
    "            data_extract.append(findPolicyInAsset(data=data['policies'], policy=a_pol))\n",
    "    else:\n",
    "        data_extract += [str(0) for p in all_policies]\n",
    "    return data_extract\n"
   ]
  },
  {
   "cell_type": "code",
   "execution_count": null,
   "metadata": {},
   "outputs": [],
   "source": [
    "def generatePandasData(assetsPolicies=[], policies=[]):\n",
    "    extractRowfromDatas = []\n",
    "    all_policies = list(set(policies))\n",
    "    for ap in assetsPolicies:\n",
    "        data = [ap[\"ip\"]]\n",
    "        data += extractRowfromData(data=ap, all_policies=all_policies)\n",
    "        extractRowfromDatas.append(data)\n",
    "    return [\"Asset\"] + all_policies, extractRowfromDatas"
   ]
  },
  {
   "cell_type": "code",
   "execution_count": null,
   "metadata": {},
   "outputs": [],
   "source": [
    "assetsPolicies, policies = getCISPoliciesofAssets(assets=assets)\n",
    "header, data_rows = generatePandasData(assetsPolicies=assetsPolicies, policies=policies)"
   ]
  },
  {
   "cell_type": "code",
   "execution_count": null,
   "metadata": {},
   "outputs": [],
   "source": [
    "df = pd.DataFrame(data_rows, columns=header)\n",
    "df"
   ]
  },
  {
   "cell_type": "code",
   "execution_count": null,
   "metadata": {},
   "outputs": [],
   "source": [
    "nowTime = datetime.datetime.now().strftime(\"(%y%m%d-%H%M%S) \")\n",
    "df.to_excel (\"outputs/\" + nowTime + 'policiesMap_' + siteID + '.xlsx', index = False, header=True)"
   ]
  }
 ],
 "metadata": {
  "kernelspec": {
   "display_name": "Python 3",
   "language": "python",
   "name": "python3"
  },
  "language_info": {
   "codemirror_mode": {
    "name": "ipython",
    "version": 3
   },
   "file_extension": ".py",
   "mimetype": "text/x-python",
   "name": "python",
   "nbconvert_exporter": "python",
   "pygments_lexer": "ipython3",
   "version": "3.8.3"
  }
 },
 "nbformat": 4,
 "nbformat_minor": 4
}
