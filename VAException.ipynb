{
 "cells": [
  {
   "cell_type": "markdown",
   "metadata": {},
   "source": [
    "# VA Exception Generator"
   ]
  },
  {
   "cell_type": "code",
   "execution_count": null,
   "metadata": {},
   "outputs": [],
   "source": [
    "import sys\n",
    "import json\n",
    "import requests, urllib3\n",
    "urllib3.disable_warnings(urllib3.exceptions.InsecureRequestWarning)\n",
    "\n",
    "from insightvm_authen import InsightvmAuthentication"
   ]
  },
  {
   "cell_type": "code",
   "execution_count": null,
   "metadata": {},
   "outputs": [],
   "source": [
    "HOSTNAME = InsightvmAuthentication().getHostname()\n",
    "HEADER = InsightvmAuthentication().getRequestHeader()\n",
    "# HOSTNAME, HEADER"
   ]
  },
  {
   "cell_type": "markdown",
   "metadata": {},
   "source": [
    "## 1. Get Vulnerabilities Detail from ID"
   ]
  },
  {
   "cell_type": "code",
   "execution_count": null,
   "metadata": {},
   "outputs": [],
   "source": [
    "def getVulnerabilityDetail(vulnerabilitiesTextID=\"\"):\n",
    "    try:\n",
    "        getVulnerabilityDetailURL = HOSTNAME + \"api/3/vulnerabilities/\" + str(vulnerabilitiesTextID)\n",
    "        print(\"\\nGetting Vulnerability Detail\")\n",
    "        print(\"Hostname : \" + getVulnerabilityDetailURL)\n",
    "\n",
    "        r = requests.get(getVulnerabilityDetailURL, headers=HEADER, verify=False)\n",
    "\n",
    "        if r.status_code == 200:\n",
    "            r = r.json()\n",
    "            return {r[\"id\"]: r[\"title\"]}\n",
    "        else:\n",
    "            print(\"[%d] Request Connection Error\\n\" % r.status_code)\n",
    "            sys.exit()\n",
    "    except:\n",
    "        print(\"[Error] getVulnerabilityDetail Function\\n\")\n",
    "        sys.exit()"
   ]
  },
  {
   "cell_type": "code",
   "execution_count": null,
   "metadata": {},
   "outputs": [],
   "source": [
    "vulnerabilitiesTextID = \"ssl-only-weak-ciphers\"  # [1, 2, 3, 5]"
   ]
  },
  {
   "cell_type": "code",
   "execution_count": null,
   "metadata": {},
   "outputs": [],
   "source": [
    "vulnerabilityDetail = getVulnerabilityDetail(vulnerabilitiesTextID=vulnerabilitiesTextID)\n",
    "vulnerabilityDetail"
   ]
  },
  {
   "cell_type": "markdown",
   "metadata": {},
   "source": [
    "## 2. VA Exception"
   ]
  },
  {
   "cell_type": "markdown",
   "metadata": {},
   "source": [
    "### scopeTypeID\n",
    "\n",
    "    0 : Global\n",
    "    1 : Site\n",
    "    2 : Asset\n",
    "    3 : Asset Group\n",
    "    4 : Instance\n",
    "\n",
    "### exceptionReasonID\n",
    "\n",
    "    0 : False Positive\n",
    "    1 : Compensating Control\n",
    "    2 : Acceptable Use\n",
    "    3 : Acceptable Risk\"\n",
    "    4 : \"Other\""
   ]
  },
  {
   "cell_type": "code",
   "execution_count": null,
   "metadata": {},
   "outputs": [],
   "source": [
    "def runVulnerabilityException(vulnerabilitiesTextID=None, scopeTypeID=0, scopeID=None, instanceKey=\"\", submitVAException={}):\n",
    "    runVulnerabilityExceptionURL = HOSTNAME + \"api/3/vulnerability_exceptions\"\n",
    "    print(\"\\nRunning Except Vulnerability\")\n",
    "    print(\"Hostname : \" + runVulnerabilityExceptionURL)\n",
    "\n",
    "    scopeType = [\"Global\", \"Site\", \"Asset\", \"Asset Group\", \"Instance\"]\n",
    "    exceptionReason = [\"False Positive\", \"Compensating Control\", \"Acceptable Use\", \"Acceptable Risk\", \"Other\"]\n",
    "\n",
    "    payloads = {\n",
    "        \"expires\": \"\",\n",
    "        \"scope\": {\n",
    "            \"id\": str(scopeID),\n",
    "            \"vulnerability\": str(vulnerabilitiesTextID),\n",
    "            \"key\": str(instanceKey),\n",
    "            \"type\": scopeType[scopeTypeID]\n",
    "        },\n",
    "        \"state\": \"Approved\",\n",
    "        \"submit\": {\n",
    "            \"comment\": submitVAException[\"description\"],\n",
    "            \"reason\": exceptionReason[submitVAException[\"exception_reason\"]]\n",
    "        }\n",
    "    }\n",
    "\n",
    "    r = requests.post(runVulnerabilityExceptionURL, data=json.dumps(payloads), headers=HEADER, verify=False)\n",
    "\n",
    "    if r.status_code == 201:\n",
    "        return r.json()[\"id\"]\n",
    "    else:\n",
    "        print(\"[%d] Request Connection Error\\n\" % r.status_code)\n",
    "        sys.exit()"
   ]
  },
  {
   "cell_type": "code",
   "execution_count": null,
   "metadata": {},
   "outputs": [],
   "source": [
    "vulnerabilitiesTextID = \"jre-vuln-cve-2016-3427\"\n",
    "instanceKey = \"/home/ctmagent/ctm/cm/AFT/JRE/lib/rt.jar\""
   ]
  },
  {
   "cell_type": "code",
   "execution_count": null,
   "metadata": {},
   "outputs": [],
   "source": [
    "exceptionReasonID = 0\n",
    "exceptionDescription = \"Test\"\n",
    "submitVAException = {\n",
    "    \"description\": exceptionReasonID,\n",
    "    \"exception_reason\": exceptionDescription\n",
    "}"
   ]
  },
  {
   "cell_type": "code",
   "execution_count": null,
   "metadata": {},
   "outputs": [],
   "source": [
    "scopeTypeID = 2"
   ]
  },
  {
   "cell_type": "markdown",
   "metadata": {},
   "source": [
    "### A. Input multiple AssetIDs"
   ]
  },
  {
   "cell_type": "code",
   "execution_count": null,
   "metadata": {},
   "outputs": [],
   "source": [
    "assetIDs = [1, 2, 3, 4, 5]\n",
    "assetIDs"
   ]
  },
  {
   "cell_type": "markdown",
   "metadata": {},
   "source": [
    "Or"
   ]
  },
  {
   "cell_type": "markdown",
   "metadata": {},
   "source": [
    "### B. Get all assets by Vulnerability Text ID"
   ]
  },
  {
   "cell_type": "code",
   "execution_count": null,
   "metadata": {},
   "outputs": [],
   "source": [
    "def getVulnerabilityAffectedAsset(vulnerabilitiesTextID=\"\"):\n",
    "    try:\n",
    "        getVulnerabilityAffectedAssetURL = HOSTNAME + \"api/3/vulnerabilities/\" + str(vulnerabilitiesTextID) + \"/assets\"\n",
    "        print(\"\\nGetting Vulnerability Affected Assets\")\n",
    "        print(\"Hostname : \" + getVulnerabilityAffectedAssetURL)\n",
    "\n",
    "        r = requests.get(getVulnerabilityAffectedAssetURL, headers=HEADER, verify=False)\n",
    "\n",
    "        if r.status_code == 200:\n",
    "            return r.json()[\"resources\"]\n",
    "        else:\n",
    "            print(\"[%d] Request Connection Error\\n\" % r.status_code)\n",
    "            sys.exit()\n",
    "    except:\n",
    "        print(\"[Error] getVulnerabilityAffectedAsset Function\\n\")\n",
    "        sys.exit()"
   ]
  },
  {
   "cell_type": "code",
   "execution_count": null,
   "metadata": {},
   "outputs": [],
   "source": [
    "assetIDs = getVulnerabilityAffectedAsset(vulnerabilitiesTextID=vulnerabilitiesTextID)\n",
    "assetIDs"
   ]
  },
  {
   "cell_type": "markdown",
   "metadata": {},
   "source": [
    "### Run Exception with Multiple AssetIDs"
   ]
  },
  {
   "cell_type": "code",
   "execution_count": null,
   "metadata": {},
   "outputs": [],
   "source": [
    "for assetID in assetIDs:\n",
    "    runVAExceptionWithInstanceKeyByAssetID(vulnerabilitiesTextID=vulnerabilitiesTextID, scopeTypeID=scopeTypeID, instanceKey=instanceKey, assetID=str(assetID), submitVAException=submitVAException)"
   ]
  },
  {
   "cell_type": "markdown",
   "metadata": {},
   "source": [
    "### Run Exception with Vulnerability Instance Key"
   ]
  },
  {
   "cell_type": "code",
   "execution_count": null,
   "metadata": {},
   "outputs": [],
   "source": [
    "def checkHaveVulnInstanceInAsset(assetID=\"\", vulnerabilitiesTextID=\"\", instanceKey=\"\"):\n",
    "    print(\"\\nChecking Instance key in Your asset : %s\" % str(assetID))\n",
    "    \n",
    "    getVulnerabilityInstanceOfAssetURL = HOSTNAME + \"api/3/assets/\" + str(assetID) + \"/vulnerabilities/\" + str(vulnerabilitiesTextID)\n",
    "    print(\"\\nGetting Vulnerability Instances of Asset : %s\" % str(assetID))\n",
    "    print(\"Hostname : \" + getVulnerabilityInstanceOfAssetURL)\n",
    "\n",
    "    r = requests.get(getVulnerabilityInstanceOfAssetURL, headers=HEADER, verify=False)\n",
    "\n",
    "    if r.status_code == 200:\n",
    "        r = r.json()[\"results\"]\n",
    "        for insta in r:\n",
    "            if \"key\" in insta and insta[\"key\"] == instanceKey:\n",
    "                return True\n",
    "        return False\n",
    "    else:\n",
    "        print(r.status_code)    "
   ]
  },
  {
   "cell_type": "code",
   "execution_count": null,
   "metadata": {},
   "outputs": [],
   "source": [
    "vulnerabilitiesTextID = \"jre-vuln-cve-2016-3427\"\n",
    "instanceKey = \"/home/ctmagent/ctm/cm/AFT/JRE/lib/rt.jar\""
   ]
  },
  {
   "cell_type": "code",
   "execution_count": null,
   "metadata": {},
   "outputs": [],
   "source": [
    "exceptionReasonID = 0\n",
    "exceptionDescription = \"Test\"\n",
    "submitVAException = {\n",
    "    \"description\": exceptionReasonID,\n",
    "    \"exception_reason\": exceptionDescription\n",
    "}"
   ]
  },
  {
   "cell_type": "code",
   "execution_count": null,
   "metadata": {},
   "outputs": [],
   "source": [
    "scopeTypeID = 4\n",
    "scopeID= \"999\""
   ]
  },
  {
   "cell_type": "code",
   "execution_count": null,
   "metadata": {},
   "outputs": [],
   "source": [
    "assetID = \"1234\""
   ]
  },
  {
   "cell_type": "code",
   "execution_count": null,
   "metadata": {},
   "outputs": [],
   "source": [
    "if checkHaveInstanceInAsset(assetID=str(assetID), vulnerabilitiesTextID=vulnerabilitiesTextID, instanceKey=instanceKey):\n",
    "    print(\"[Found] Instance key in Your asset.\")\n",
    "    vaExceptionID = runVulnerabilityException(vulnerabilitiesTextID=vulnerabilitiesTextID, scopeTypeID=scopeTypeID, scopeID=assetID, instanceKey=instanceKey, submitVAException=submitVAException)\n",
    "    print(\"[Successful] Vulnerabilities Exceptions ID : \" + str(vaExceptionID))\n",
    "else:\n",
    "    print(\"[Not Found] Instance key in Your asset.\")\n"
   ]
  },
  {
   "cell_type": "markdown",
   "metadata": {},
   "source": [
    "# Get Vulnerability Exceptions Detail By ID"
   ]
  },
  {
   "cell_type": "code",
   "execution_count": null,
   "metadata": {},
   "outputs": [],
   "source": [
    "vaExceptionID = \"\""
   ]
  },
  {
   "cell_type": "code",
   "execution_count": null,
   "metadata": {},
   "outputs": [],
   "source": [
    "getVulnerabilityExceptionsDetailURL = HOSTNAME + \"api/3/vulnerability_exceptions/\" + str(vaExceptionID)\n",
    "print(\"Hostname : \" + getVulnerabilityExceptionsDetailURL)\n",
    "\n",
    "r = requests.get(getVulnerabilityExceptionsDetailURL, headers=HEADER, verify=False)\n",
    "r = r.json()"
   ]
  },
  {
   "cell_type": "code",
   "execution_count": null,
   "metadata": {},
   "outputs": [],
   "source": [
    "r"
   ]
  },
  {
   "cell_type": "code",
   "execution_count": null,
   "metadata": {},
   "outputs": [],
   "source": [
    "filepath = \"outputs/getVulnerabilityExceptionsDetail.json\""
   ]
  },
  {
   "cell_type": "code",
   "execution_count": null,
   "metadata": {},
   "outputs": [],
   "source": [
    "with open(filepath, 'w', encoding=\"utf8\") as f:\n",
    "    f.write(json.dumps(r, indent=4))\n",
    "print(\"\\n[Success Exporting] \" + filepath)"
   ]
  },
  {
   "cell_type": "markdown",
   "metadata": {},
   "source": [
    "# Delete Vulnerability Exception By ID"
   ]
  },
  {
   "cell_type": "code",
   "execution_count": null,
   "metadata": {},
   "outputs": [],
   "source": [
    "vaExceptionID = \"\""
   ]
  },
  {
   "cell_type": "code",
   "execution_count": null,
   "metadata": {},
   "outputs": [],
   "source": [
    "deleteVulnerabilityExceptionsURL = HOSTNAME + \"api/3/vulnerability_exceptions/\" + str(vaExceptionID)\n",
    "print(\"Hostname : \" + deleteVulnerabilityExceptionsURL)\n",
    "\n",
    "r = requests.delete(deleteVulnerabilityExceptionsURL, headers=HEADER, verify=False)"
   ]
  },
  {
   "cell_type": "code",
   "execution_count": null,
   "metadata": {},
   "outputs": [],
   "source": [
    "r.status_code == 200"
   ]
  }
 ],
 "metadata": {
  "kernelspec": {
   "display_name": "Python 3",
   "language": "python",
   "name": "python3"
  },
  "language_info": {
   "codemirror_mode": {
    "name": "ipython",
    "version": 3
   },
   "file_extension": ".py",
   "mimetype": "text/x-python",
   "name": "python",
   "nbconvert_exporter": "python",
   "pygments_lexer": "ipython3",
   "version": "3.8.3"
  }
 },
 "nbformat": 4,
 "nbformat_minor": 4
}
