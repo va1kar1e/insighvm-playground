{
 "cells": [
  {
   "cell_type": "markdown",
   "source": [
    "# Convert the Rapid7 Custom Policy in XML file to JSON file"
   ],
   "metadata": {}
  },
  {
   "cell_type": "code",
   "execution_count": 1,
   "source": [
    "import json \r\n",
    "import xmltodict \r\n",
    "import datetime"
   ],
   "outputs": [],
   "metadata": {}
  },
  {
   "cell_type": "code",
   "execution_count": null,
   "source": [
    "def readXML(filename=\"\"):\r\n",
    "    with open(filename, encoding=\"utf-8\") as xml_file: \r\n",
    "        data_dict = xmltodict.parse(xml_file.read()) \r\n",
    "        xml_file.close() \r\n",
    "        data = dict(data_dict)\r\n",
    "        return data"
   ],
   "outputs": [],
   "metadata": {}
  },
  {
   "cell_type": "code",
   "execution_count": null,
   "source": [
    "filename = \"inputs/\" + \"input.xml\""
   ],
   "outputs": [],
   "metadata": {}
  },
  {
   "cell_type": "code",
   "execution_count": null,
   "source": [
    "data = readXML(filename=filename)\r\n",
    "data = data[\"ns22:data-stream-collection\"][\"ns22:component\"][0]['Benchmark']"
   ],
   "outputs": [],
   "metadata": {}
  },
  {
   "cell_type": "code",
   "execution_count": null,
   "source": [
    "template = {\r\n",
    "  \"cisBenchmark\": data['@id'],\r\n",
    "  \"cisLabel\": data['Profile']['title'],\r\n",
    "  \"cisLevel\": data['Profile']['@id'],\r\n",
    "  \"cisOS\": \"Red Hat Enterprise Linux \",\r\n",
    "  \"cisVersion\": data['version']\r\n",
    "}\r\n",
    "template"
   ],
   "outputs": [],
   "metadata": {}
  },
  {
   "cell_type": "code",
   "execution_count": null,
   "source": [
    "json.dumps(template) + \",\"\r\n",
    "json_data = json.dumps(data)"
   ],
   "outputs": [],
   "metadata": {}
  },
  {
   "cell_type": "code",
   "execution_count": null,
   "source": [
    "nowTime = datetime.datetime.now().strftime(\"(%y%m%d-%H%M%S) \")\r\n",
    "filepath = \"outputs/\" + nowTime + \"output.json\""
   ],
   "outputs": [],
   "metadata": {}
  },
  {
   "cell_type": "code",
   "execution_count": null,
   "source": [
    "\r\n",
    "with open(filepath, 'w', encoding=\"utf8\") as f:\r\n",
    "    f.write(json.dumps(json_data, indent=4))\r\n",
    "print(\"\\n[Success Exporting] \" + filepath)"
   ],
   "outputs": [],
   "metadata": {}
  }
 ],
 "metadata": {
  "kernelspec": {
   "display_name": "Python 3",
   "language": "python",
   "name": "python3"
  },
  "language_info": {
   "codemirror_mode": {
    "name": "ipython",
    "version": 3
   },
   "file_extension": ".py",
   "mimetype": "text/x-python",
   "name": "python",
   "nbconvert_exporter": "python",
   "pygments_lexer": "ipython3",
   "version": "3.8.3"
  }
 },
 "nbformat": 4,
 "nbformat_minor": 4
}