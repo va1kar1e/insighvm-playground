{
 "cells": [
  {
   "cell_type": "markdown",
   "metadata": {},
   "source": [
    "# Manage Scan Template"
   ]
  },
  {
   "cell_type": "code",
   "execution_count": null,
   "metadata": {},
   "outputs": [],
   "source": [
    "import sys\n",
    "import json\n",
    "import requests, urllib3\n",
    "urllib3.disable_warnings(urllib3.exceptions.InsecureRequestWarning)\n",
    "\n",
    "from insightvm_authen import InsightvmAuthentication"
   ]
  },
  {
   "cell_type": "code",
   "execution_count": null,
   "metadata": {},
   "outputs": [],
   "source": [
    "HOSTNAME = InsightvmAuthentication().getHostname()\n",
    "HEADER = InsightvmAuthentication().getRequestHeader()\n",
    "HOSTNAME, HEADER"
   ]
  },
  {
   "cell_type": "code",
   "execution_count": null,
   "metadata": {},
   "outputs": [],
   "source": [
    "def getAllScanTemplate():\n",
    "    gettAllScanTemplateURL = HOSTNAME + \"api/3/scan_templates\"\n",
    "\n",
    "    print(\"Hostname : \" + gettAllScanTemplateURL)\n",
    "    r = requests.get(gettAllScanTemplateURL, headers=HEADER, verify=False)\n",
    "    if r.status_code == 200:\n",
    "        r = r.json()\n",
    "        return r[\"resources\"]\n",
    "    else:\n",
    "        print(\"[Error] Request Connection Error.\")\n",
    "        sys.exit()"
   ]
  },
  {
   "cell_type": "code",
   "execution_count": null,
   "metadata": {},
   "outputs": [],
   "source": [
    "allScanTemplates = getAllScanTemplate()\n",
    "len(allScanTemplates)"
   ]
  },
  {
   "cell_type": "code",
   "execution_count": null,
   "metadata": {},
   "outputs": [],
   "source": [
    "allScanTemplates"
   ]
  },
  {
   "cell_type": "code",
   "execution_count": null,
   "metadata": {},
   "outputs": [],
   "source": [
    "def extractDiscoveryPort(data):\n",
    "    extractData = {\n",
    "        \"id\" : data[\"id\"],\n",
    "        \"name\" : data[\"name\"],\n",
    "        \"udpStatus\" : data[\"discovery\"][\"service\"][\"udp\"]\n",
    "    }\n",
    "    \n",
    "    if(\"udp\" in data[\"discovery\"][\"service\"] and data[\"discovery\"][\"service\"][\"udp\"] != []):\n",
    "        extractData[\"udpPorts\"] = data[\"discovery\"][\"asset\"][\"udpPorts\"]\n",
    "    else:\n",
    "        extractData[\"udpPorts\"] = None\n",
    "    \n",
    "    return extractData"
   ]
  },
  {
   "cell_type": "code",
   "execution_count": null,
   "metadata": {},
   "outputs": [],
   "source": [
    "allExtractPort = [extractDiscoveryPort(t) for t in allScanTemplates]\n",
    "allExtractPort"
   ]
  },
  {
   "cell_type": "markdown",
   "metadata": {},
   "source": [
    "## Get Scan Template by ID"
   ]
  },
  {
   "cell_type": "code",
   "execution_count": null,
   "metadata": {},
   "outputs": [],
   "source": [
    "def getScanTemplateByID(scanTemplatesID=\"\"):\n",
    "    getScanTemplateByIDURL = HOSTNAME + \"api/3/scan_templates/\" + str(scanTemplatesID)\n",
    "\n",
    "    print(\"Hostname : \" + getScanTemplateByIDURL)\n",
    "    r = requests.get(getScanTemplateByIDURL, headers=HEADER, verify=False)\n",
    "    if r.status_code == 200:\n",
    "        r = r.json()\n",
    "        return r\n",
    "    else:\n",
    "        print(\"[Error] Request Connection Error.\")\n",
    "        sys.exit()"
   ]
  },
  {
   "cell_type": "code",
   "execution_count": null,
   "metadata": {},
   "outputs": [],
   "source": [
    "scanTemplatesID=\"\""
   ]
  },
  {
   "cell_type": "code",
   "execution_count": null,
   "metadata": {},
   "outputs": [],
   "source": [
    "scanTemplateByID = getScanTemplateByID(scanTemplatesID=scanTemplatesID)"
   ]
  },
  {
   "cell_type": "code",
   "execution_count": null,
   "metadata": {},
   "outputs": [],
   "source": [
    "scanTemplateByID"
   ]
  },
  {
   "cell_type": "markdown",
   "metadata": {},
   "source": [
    "## Update Scan Template by ID"
   ]
  },
  {
   "cell_type": "code",
   "execution_count": null,
   "metadata": {},
   "outputs": [],
   "source": [
    "def updateScanTemplateByID(scanTemplatesID=\"\", payloads={}):\n",
    "    updateScanTemplateByIDURL = HOSTNAME + \"api/3/scan_templates/\" + str(scanTemplatesID)\n",
    "\n",
    "    print(\"Hostname : \" + updateScanTemplateByIDURL)\n",
    "    r = requests.put(updateScanTemplateByIDURL, data=json.dumps(payloads), headers=HEADER, verify=False)\n",
    "    print(r.status_code)\n",
    "    print(r.text)"
   ]
  },
  {
   "cell_type": "code",
   "execution_count": null,
   "metadata": {},
   "outputs": [],
   "source": [
    "allScanTemplates[0]"
   ]
  },
  {
   "cell_type": "code",
   "execution_count": null,
   "metadata": {},
   "outputs": [],
   "source": [
    "def preparedPayloads(data={}):\n",
    "    payloads = data\n",
    "    \n",
    "    if \"additionalPorts\" in payloads[\"discovery\"][\"service\"][\"udp\"]:\n",
    "        if int(31400) not in payloads[\"discovery\"][\"service\"][\"udp\"][\"additionalPorts\"]:\n",
    "            payloads[\"discovery\"][\"service\"][\"udp\"][\"additionalPorts\"] += [31400]\n",
    "    else:\n",
    "        payloads[\"discovery\"][\"service\"][\"udp\"][\"additionalPorts\"] = [31400]\n",
    "\n",
    "    return payloads"
   ]
  },
  {
   "cell_type": "code",
   "execution_count": null,
   "metadata": {},
   "outputs": [],
   "source": [
    "scanTemplatesID = allScanTemplates[0][\"id\"]\n",
    "payloads = preparedPayloads(data=allScanTemplates[0])\n",
    "scanTemplatesID, payloads"
   ]
  },
  {
   "cell_type": "code",
   "execution_count": null,
   "metadata": {},
   "outputs": [],
   "source": [
    "updateScanTemplateByID(scanTemplatesID=scanTemplatesID, payloads=payloads)"
   ]
  },
  {
   "cell_type": "code",
   "execution_count": null,
   "metadata": {},
   "outputs": [],
   "source": [
    "updateAuto = [allScanTemplates[1]]\n",
    "updateAuto[0][\"id\"]"
   ]
  },
  {
   "cell_type": "code",
   "execution_count": null,
   "metadata": {},
   "outputs": [],
   "source": [
    "for scanTP in updateAuto:\n",
    "    scanTemplatesID = scanTP[\"id\"]\n",
    "    payloads = preparedPayloads(data=scanTP)\n",
    "#     print(payloads)\n",
    "    updateScanTemplateByID(scanTemplatesID=scanTemplatesID, payloads=payloads)"
   ]
  },
  {
   "cell_type": "code",
   "execution_count": null,
   "metadata": {},
   "outputs": [],
   "source": []
  },
  {
   "cell_type": "markdown",
   "metadata": {},
   "source": [
    "## Delete Scan Template by ID"
   ]
  },
  {
   "cell_type": "code",
   "execution_count": null,
   "metadata": {},
   "outputs": [],
   "source": [
    "def deleteScanTemplateByID(scanTemplatesID=\"\"):\n",
    "    deleteScanTemplateByIDURL = HOSTNAME + \"api/3/scan_templates/\" + str(scanTemplatesID)\n",
    "\n",
    "    print(\"Hostname : \" + deleteScanTemplateByIDURL)\n",
    "    r = requests.delete(deleteScanTemplateByIDURL, headers=HEADER, verify=False)\n",
    "    print(r.status_code)\n",
    "    print(r.text)"
   ]
  },
  {
   "cell_type": "code",
   "execution_count": null,
   "metadata": {},
   "outputs": [],
   "source": [
    "scanTemplatesID=\"\""
   ]
  },
  {
   "cell_type": "code",
   "execution_count": null,
   "metadata": {},
   "outputs": [],
   "source": [
    "deleteScanTemplateByID(scanTemplatesID=scanTemplatesID)"
   ]
  },
  {
   "cell_type": "code",
   "execution_count": null,
   "metadata": {},
   "outputs": [],
   "source": []
  }
 ],
 "metadata": {
  "kernelspec": {
   "display_name": "Python 3",
   "language": "python",
   "name": "python3"
  },
  "language_info": {
   "codemirror_mode": {
    "name": "ipython",
    "version": 3
   },
   "file_extension": ".py",
   "mimetype": "text/x-python",
   "name": "python",
   "nbconvert_exporter": "python",
   "pygments_lexer": "ipython3",
   "version": "3.8.3"
  }
 },
 "nbformat": 4,
 "nbformat_minor": 4
}
