{
 "cells": [
  {
   "cell_type": "markdown",
   "metadata": {},
   "source": [
    "# Share Credential Account Management"
   ]
  },
  {
   "cell_type": "code",
   "execution_count": null,
   "metadata": {},
   "outputs": [],
   "source": [
    "import os, json\n",
    "import pandas as pd\n",
    "import requests, urllib3\n",
    "urllib3.disable_warnings(urllib3.exceptions.InsecureRequestWarning)\n",
    "import time\n",
    "\n",
    "from dotenv import load_dotenv\n",
    "load_dotenv()\n",
    "\n",
    "from insightvm_authen import InsightvmAuthentication"
   ]
  },
  {
   "cell_type": "code",
   "execution_count": null,
   "metadata": {},
   "outputs": [],
   "source": [
    "HOSTNAME = \"https://\" + os.getenv(\"HOSTNAME\") + \"/\"\n",
    "\n",
    "INSIGHTVM_USER = os.getenv(\"INSIGHTVM_USER\")\n",
    "INSIGHTVM_PASSWORD = os.getenv(\"INSIGHTVM_PASSWORD\")\n",
    "\n",
    "MAIN_HEADER = InsightvmAuthentication().getRequestHeader()\n",
    "MAIN_HEADER"
   ]
  },
  {
   "cell_type": "markdown",
   "metadata": {},
   "source": [
    "## 0. Create InsightVM Session"
   ]
  },
  {
   "cell_type": "code",
   "execution_count": null,
   "metadata": {},
   "outputs": [],
   "source": [
    "# Authentication\n",
    "loginURL = HOSTNAME + 'data/user/login'\n",
    "postData = {'nexposeccusername': INSIGHTVM_USER, 'nexposeccpassword': INSIGHTVM_PASSWORD}\n",
    "\n",
    "print(\"\\nLogging into Nexpose (\" + loginURL + \")\")\n",
    "r = requests.post(loginURL, data=postData, verify=False)\n",
    "cookie = dict(nexposeCCSessionID=str(r.cookies['nexposeCCSessionID']))\n",
    "print(\"\\nAuthentication Successful\")\n",
    "cookie"
   ]
  },
  {
   "cell_type": "markdown",
   "metadata": {},
   "source": [
    "## 1. Create Share Credential Account"
   ]
  },
  {
   "cell_type": "markdown",
   "metadata": {},
   "source": [
    "### File Input Pattern Format\n",
    "\n",
    "General Pattern\n",
    "\n",
    "```\n",
    "credential_name,service,appid,cyberark_username,cyberark_address,cyberark_domain,restrictUrl,os\n",
    "```\n",
    "\n",
    "Example for CIFS\n",
    "\n",
    "```\n",
    "Test Cyberark Script Samba,cifs,Rapid7test,rapid7usr,XXX.com,XXX.com,test.XXX.com,\n",
    "```\n",
    "\n",
    "Example for SSH\n",
    "\n",
    "```\n",
    "Test Cyberark Script SSH,ssh,Rapid7,rapid7usr,test.XXX.com,,test.XXX.com,redhat_aws\n",
    "```"
   ]
  },
  {
   "cell_type": "code",
   "execution_count": null,
   "metadata": {},
   "outputs": [],
   "source": [
    "def createSharedCredentialCyberark(name=\"\", service=\"\", appid=\"\", username=\"\", address=\"\", domain=\"\", escalation=[\"\", \"\", \"\"], allsite=\"0\", restrictUrl=\"\"):\n",
    "    cyberark_safe = \"Safe\"\n",
    "    cyberark_folder = \"root\"\n",
    "\n",
    "    createSharedCredentialURL = HOSTNAME + 'data/credential/shared/save'\n",
    "    payloads = '<Credential shared=\"1\" id=\"-1\" enabled=\"0\"><Name>' + name + '</Name><Description></Description><Services><Service type=\"' + service + '\"/></Services><Account type=\"cyberark\"><Field name=\"database\"></Field><Field name=\"domain\">' + \\\n",
    "        domain + '</Field><Field name=\"username\"></Field><Field name=\"ntlmhash\"></Field><Field name=\"password\"></Field><Field name=\"pemkey\"></Field><Field name=\"privilegeelevationusername\">' + escalation[1] + '</Field><Field name=\"privilegeelevationpassword\">' + \\\n",
    "        escalation[2] + '</Field><Field name=\"snmpv3privpassword\"></Field><Field name=\"privilegeelevationtype\">' + escalation[0] + '</Field><Field name=\"appid\">' + appid + '</Field><Field name=\"lookuptype\">static</Field><Field name=\"safe\">' + cyberark_safe + '</Field>' + \\\n",
    "        '<Field name=\"folder\">' + cyberark_folder + '</Field><Field name=\"searchall\">false</Field><Field name=\"address\">' + address + '</Field><Field name=\"cyberarkusername\">' + username + '</Field><Field name=\"realm\"></Field></Account>' + \\\n",
    "        '<Restrictions><Restriction type=\"host\">' + restrictUrl + '</Restriction><Restriction type=\"port\"></Restriction></Restrictions><Sites all=\"' + allsite + '\"/></Credential>'\n",
    "    # print(payloads)\n",
    "\n",
    "    headers = {\n",
    "        'Content-Type': 'text/xml;charset=UTF-8',\n",
    "        \"Nexposeccsessionid\": str(cookie['nexposeCCSessionID'])\n",
    "    }\n",
    "\n",
    "    print(\"\\nCreate Shared Credential\")\n",
    "    print(\"Hostname : \" + createSharedCredentialURL)\n",
    "\n",
    "    r = requests.post(createSharedCredentialURL, data=payloads, headers=headers, cookies=cookie, verify=False)\n",
    "    if r.status_code == 200 and str(r.text).strip() == \"<ajaxResponse success=\\\"1\\\"></ajaxResponse>\":\n",
    "        print(\"[Success] Creating Successful \" + name)\n",
    "        return\n",
    "    else:\n",
    "        print(\"[Error] Request Connection Error.\")\n",
    "        print(r.status_code)\n",
    "        print(r.text)\n"
   ]
  },
  {
   "cell_type": "code",
   "execution_count": null,
   "metadata": {},
   "outputs": [],
   "source": [
    "# API Version - Not cover requirement\n",
    "#\n",
    "# def createSharedCredentialInsighVM(self, service=\"\", domain=\"\", ip=\"\"):\n",
    "#     createSharedCredentialURL = self.HOSTNAME + 'api/3/shared_credentials'\n",
    "#     payloads = {\n",
    "#         \"name\": \"Test add shared credential\",\n",
    "#         \"description\": \"This is a cifs test credential\",\n",
    "#         \"account\": {\n",
    "#             \"service\": service,\n",
    "#                 \"domain\": domain,\n",
    "#                 \"username\": \"test\",\n",
    "#                 \"password\": \"test\",\n",
    "#         },\n",
    "#         \"siteAssignment\": \"all-sites\",\n",
    "#         # \"siteAssignment\": \"specific-sites\", \"sites\": [],\n",
    "#         \"hostRestriction\": ip\n",
    "#     }\n",
    "#     print(payloads)\n",
    "#     print(\"\\nCreate Shared Credential\")\n",
    "#     print(\"Hostname : \" + createSharedCredentialURL)\n",
    "\n",
    "#     r = requests.post(createSharedCredentialURL, data=json.dumps(payloads).encode(\"utf-8\"),\n",
    "#                       headers=self.HEADER, verify=False)\n",
    "#     if r.status_code == 201:\n",
    "#         r = r.json()\n",
    "#         if r['id']:\n",
    "#             print(\"Your Report Configuration ID : \" + str(r['id']))\n",
    "#             return str(r['id'])\n",
    "#         else:\n",
    "#             print(\"[Error] Can't create Shared Credential\")\n",
    "#     else:\n",
    "#         print(\"[Error] Request Connection Error.\")\n",
    "#         print(r.status_code)\n"
   ]
  },
  {
   "cell_type": "code",
   "execution_count": null,
   "metadata": {},
   "outputs": [],
   "source": [
    "def generateEscalation(os=\"\"):\n",
    "    if os in [\"redhat\", \"redhat_aws\"]:\n",
    "        return [\"SUDOSU\", \"root\", \"\"]\n",
    "    else:\n",
    "        return [\"NONE\", \"\", \"\"]"
   ]
  },
  {
   "cell_type": "code",
   "execution_count": null,
   "metadata": {},
   "outputs": [],
   "source": [
    "filepath = \"inputs/input_cred.csv\""
   ]
  },
  {
   "cell_type": "code",
   "execution_count": null,
   "metadata": {},
   "outputs": [],
   "source": [
    "with open(filepath, \"r\") as datas:\n",
    "    for index, line in enumerate(datas):\n",
    "        if index > 0 and line != \"\":\n",
    "            cred = line.strip().split(\",\")\n",
    "            createSharedCredentialCyberark(name=cred[0], service=cred[1], appid=cred[2], username=cred[3], address=cred[4], domain=cred[5], escalation=generateEscalation(os=cred[7]), allsite=\"1\", restrictUrl=cred[6])\n",
    "            time.sleep(2)\n",
    "            if index > 0 and index % 5 == 0:\n",
    "                time.sleep(10)"
   ]
  },
  {
   "cell_type": "markdown",
   "metadata": {},
   "source": [
    "## 2. List Share Credential Account"
   ]
  },
  {
   "cell_type": "code",
   "execution_count": null,
   "metadata": {},
   "outputs": [],
   "source": [
    "def getSharedCredentials():\n",
    "    print(\"\\nGetting Shared Credential\")\n",
    "    r = requests.get(HOSTNAME + \"api/3/shared_credentials\", headers=MAIN_HEADER, verify=False)\n",
    "    if r.status_code == 200:\n",
    "        r = r.json()\n",
    "        if r[\"resources\"]:\n",
    "            return {\"data\": r[\"resources\"], \"total\": len(r[\"resources\"])}\n",
    "        else:\n",
    "            print(\"\\n[Not Found] Your Shared Credentials\")\n",
    "    else:\n",
    "        print(\"[Error] Request Connection Error.\")\n",
    "        print(r.status_code)"
   ]
  },
  {
   "cell_type": "code",
   "execution_count": null,
   "metadata": {},
   "outputs": [],
   "source": [
    "sharedCredentials = getSharedCredentials()"
   ]
  },
  {
   "cell_type": "code",
   "execution_count": null,
   "metadata": {},
   "outputs": [],
   "source": [
    "sharedCredentials_df = pd.DataFrame(sharedCredentials[\"data\"])\n",
    "sharedCredentials_df.sort_values(by=['id'])"
   ]
  },
  {
   "cell_type": "code",
   "execution_count": null,
   "metadata": {},
   "outputs": [],
   "source": [
    "filepath=\"outputs/sharedCredentialaccounts.json\""
   ]
  },
  {
   "cell_type": "code",
   "execution_count": null,
   "metadata": {},
   "outputs": [],
   "source": [
    "with open(filepath, 'w', encoding=\"utf8\") as f:\n",
    "    f.write(json.dumps(getSharedCredentials, indent=4))\n",
    "print(\"\\n[Success Exporting] \" + filepath)"
   ]
  },
  {
   "cell_type": "code",
   "execution_count": null,
   "metadata": {},
   "outputs": [],
   "source": [
    "# getSharedCredentials_df[getSharedCredentials_df[\"name\"]==\"cyberark_XXX.com\"][\"id\"][0]"
   ]
  },
  {
   "cell_type": "markdown",
   "metadata": {},
   "source": [
    "## 3. Remove Share Credential Account"
   ]
  },
  {
   "cell_type": "code",
   "execution_count": null,
   "metadata": {},
   "outputs": [],
   "source": [
    "def deleteSharedCredential(sharedCredentialID=\"\"):\n",
    "    print(\"\\nGetting Shared Credential\")\n",
    "    r = requests.delete(HOSTNAME + \"api/3/shared_credentials/\" + str(sharedCredentialID), headers=MAIN_HEADER, verify=False)\n",
    "    if r.status_code == 200:\n",
    "        print(\"[Success] Delete Shared Credentia ID %s Successful\" % str(sharedCredentialID))\n",
    "        return\n",
    "    else:\n",
    "        print(\"[Error] Request Connection Error.\")\n",
    "        print(r.status_code)\n",
    "        time.sleep(10)"
   ]
  },
  {
   "cell_type": "code",
   "execution_count": null,
   "metadata": {},
   "outputs": [],
   "source": [
    "startID = 1\n",
    "stopID = 1000"
   ]
  },
  {
   "cell_type": "code",
   "execution_count": null,
   "metadata": {},
   "outputs": [],
   "source": [
    "for i in range(startID, stopID+1, 1):\n",
    "    deleteSharedCredential(sharedCredentialID=str(i))"
   ]
  },
  {
   "cell_type": "markdown",
   "metadata": {},
   "source": [
    "### Delete Exist Credential from API Lab"
   ]
  },
  {
   "cell_type": "code",
   "execution_count": null,
   "metadata": {},
   "outputs": [],
   "source": [
    "filepath = \"inputs/sharedCredential_all.csv\"\n",
    "credentialId_all = []\n",
    "\n",
    "sharedCredentials = getSharedCredentials()\n",
    "sharedCredentials_df = pd.DataFrame(sharedCredentials[\"data\"])\n",
    "\n",
    "with open(filepath, \"r\") as datas:\n",
    "    for index, line in enumerate(datas):\n",
    "        if index > 0 and line != \"\":\n",
    "            cred = line.strip().split(\",\")\n",
    "            print(cred)\n",
    "            credentialId = sharedCredentials_df[sharedCredentials_df[\"name\"]==cred[0]][\"id\"]\n",
    "            if not credentialId.empty:\n",
    "                credentialId_all.append(credentialId.values[0])\n",
    "sorted(set(credentialId_all))"
   ]
  },
  {
   "cell_type": "code",
   "execution_count": null,
   "metadata": {},
   "outputs": [],
   "source": [
    "for index, credentialId in enumerate(sorted(set(credentialId_all))):\n",
    "    deleteSharedCredential(sharedCredentialID=str(credentialId))\n",
    "    time.sleep(2)\n",
    "    if index > 0 and index % 5 == 0:\n",
    "        time.sleep(10)"
   ]
  },
  {
   "cell_type": "code",
   "execution_count": null,
   "metadata": {},
   "outputs": [],
   "source": []
  }
 ],
 "metadata": {
  "kernelspec": {
   "display_name": "Python 3",
   "language": "python",
   "name": "python3"
  },
  "language_info": {
   "codemirror_mode": {
    "name": "ipython",
    "version": 3
   },
   "file_extension": ".py",
   "mimetype": "text/x-python",
   "name": "python",
   "nbconvert_exporter": "python",
   "pygments_lexer": "ipython3",
   "version": "3.8.3"
  }
 },
 "nbformat": 4,
 "nbformat_minor": 4
}
