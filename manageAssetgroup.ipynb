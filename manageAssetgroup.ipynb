{
 "cells": [
  {
   "cell_type": "markdown",
   "metadata": {},
   "source": [
    "# Asset Group Management"
   ]
  },
  {
   "cell_type": "code",
   "execution_count": null,
   "metadata": {},
   "outputs": [],
   "source": [
    "import requests\n",
    "import json\n",
    "import urllib3\n",
    "urllib3.disable_warnings(urllib3.exceptions.InsecureRequestWarning)\n",
    "\n",
    "from insightvm_authen import InsightvmAuthentication"
   ]
  },
  {
   "cell_type": "code",
   "execution_count": null,
   "metadata": {},
   "outputs": [],
   "source": [
    "HOSTNAME = InsightvmAuthentication().getHostname()\n",
    "HEADER = InsightvmAuthentication().getRequestHeader()\n",
    "# HOSTNAME, HEADER"
   ]
  },
  {
   "cell_type": "markdown",
   "metadata": {},
   "source": [
    "## 1. Get All Assset Group"
   ]
  },
  {
   "cell_type": "code",
   "execution_count": null,
   "metadata": {},
   "outputs": [],
   "source": [
    "def getAssetgroup(assetGroupID=\"\"):\n",
    "    getAssetGroupURL = HOSTNAME + \"/api/3/asset_groups\"\n",
    "    \n",
    "    if assetGroupID != \"\":\n",
    "        getAssetGroupURL += \"/\" + str(assetGroupID)\n",
    "    \n",
    "    getAssetGroup = requests.get(getAssetGroupURL, headers=HEADER, verify=False)\n",
    "    return getAssetGroup.json()"
   ]
  },
  {
   "cell_type": "code",
   "execution_count": null,
   "metadata": {},
   "outputs": [],
   "source": [
    "getAssetGroup = getAssetgroup()\n",
    "getAssetGroup[\"resources\"][-1]"
   ]
  },
  {
   "cell_type": "code",
   "execution_count": null,
   "metadata": {},
   "outputs": [],
   "source": [
    "assetGroupID = [asset_g[\"id\"] for asset_g in getAssetGroup[\"resources\"]]\n",
    "assetGroupID"
   ]
  },
  {
   "cell_type": "markdown",
   "metadata": {},
   "source": [
    "## 2. Get Specific Assset Group"
   ]
  },
  {
   "cell_type": "code",
   "execution_count": null,
   "metadata": {},
   "outputs": [],
   "source": [
    "getAssetGroup = getAssetgroup(assetGroupID=str(assetGroupID[-1]))\n",
    "getAssetGroup"
   ]
  },
  {
   "cell_type": "markdown",
   "metadata": {},
   "source": [
    "## 3. Create New Asset Group"
   ]
  },
  {
   "cell_type": "code",
   "execution_count": null,
   "metadata": {
    "scrolled": true
   },
   "outputs": [],
   "source": [
    "def createAssetGroup(payloads=\"\"):\n",
    "    createAssetGroupURL = HOSTNAME + \"/api/3/asset_groups\"\n",
    "    createAssetGroup = requests.post(createAssetGroupURL, data=json.dumps(payloads), headers=HEADER, verify=False)\n",
    "    return createAssetGroup.json()"
   ]
  },
  {
   "cell_type": "code",
   "execution_count": null,
   "metadata": {},
   "outputs": [],
   "source": [
    "payloads = {\n",
    "    \"name\": \"Kubenetes Assets\",\n",
    "    \"searchCriteria\": {\n",
    "        \"filters\": [\n",
    "            {\n",
    "                \"field\": \"ip-address\",\n",
    "                \"operator\": \"in-range\",\n",
    "                \"lower\": \"192.168.1.0\",\n",
    "                \"upper\": \"192.168.1.255\"\n",
    "            },\n",
    "            {\n",
    "                \"field\": \"ip-address\",\n",
    "                \"operator\": \"in-range\",\n",
    "                \"lower\": \"192.168.3.0\",\n",
    "                \"upper\": \"192.168.4.255\"\n",
    "            }\n",
    "        ],\n",
    "        \"match\": \"any\"\n",
    "    },\n",
    "    \"type\": \"dynamic\"\n",
    "}\n",
    "# payloads"
   ]
  },
  {
   "cell_type": "code",
   "execution_count": null,
   "metadata": {},
   "outputs": [],
   "source": [
    "createAssetGroup = createAssetGroup(payloads=payloads)"
   ]
  },
  {
   "cell_type": "markdown",
   "metadata": {},
   "source": [
    "## 4. Get All Assets in Asset Groups"
   ]
  },
  {
   "cell_type": "code",
   "execution_count": null,
   "metadata": {},
   "outputs": [],
   "source": [
    "def getAllAssetGroupAssets(assetGroupID=\"\"):\n",
    "    getAllAssetGroupAssetsURL = HOSTNAME + \"/api/3/asset_groups/\" + str(assetGroupID) + \"/assets\"\n",
    "    getAllAssetGroupAssets = requests.get(getAllAssetGroupAssetsURL, headers=HEADER, verify=False)\n",
    "    return getAllAssetGroupAssets.json()"
   ]
  },
  {
   "cell_type": "code",
   "execution_count": null,
   "metadata": {},
   "outputs": [],
   "source": [
    "assetGroupID = \"10\"\n",
    "assetsinAssetGroup = getAllAssetGroupAssets(assetGroupID=assetGroupID)"
   ]
  },
  {
   "cell_type": "code",
   "execution_count": null,
   "metadata": {},
   "outputs": [],
   "source": [
    "len(assetsinAssetGroup[\"resources\"]), assetsinAssetGroup[\"resources\"]"
   ]
  }
 ],
 "metadata": {
  "kernelspec": {
   "display_name": "Python 3",
   "language": "python",
   "name": "python3"
  },
  "language_info": {
   "codemirror_mode": {
    "name": "ipython",
    "version": 3
   },
   "file_extension": ".py",
   "mimetype": "text/x-python",
   "name": "python",
   "nbconvert_exporter": "python",
   "pygments_lexer": "ipython3",
   "version": "3.8.3"
  }
 },
 "nbformat": 4,
 "nbformat_minor": 4
}
