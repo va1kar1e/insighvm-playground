{
 "cells": [
  {
   "cell_type": "markdown",
   "metadata": {},
   "source": [
    "# Search Asset Information"
   ]
  },
  {
   "cell_type": "code",
   "execution_count": null,
   "metadata": {},
   "outputs": [],
   "source": [
    "import sys\n",
    "import json\n",
    "import re\n",
    "import time, datetime\n",
    "import pandas as pd\n",
    "import requests, urllib3\n",
    "urllib3.disable_warnings(urllib3.exceptions.InsecureRequestWarning)\n",
    "\n",
    "from insightvm_authen import InsightvmAuthentication"
   ]
  },
  {
   "cell_type": "code",
   "execution_count": null,
   "metadata": {},
   "outputs": [],
   "source": [
    "HOSTNAME = InsightvmAuthentication().getHostname()\n",
    "HEADER = InsightvmAuthentication().getRequestHeader()\n",
    "# HOSTNAME, HEADER"
   ]
  },
  {
   "cell_type": "markdown",
   "metadata": {},
   "source": [
    "## 1. Find Active Agent Scan"
   ]
  },
  {
   "cell_type": "code",
   "execution_count": null,
   "metadata": {},
   "outputs": [],
   "source": [
    "def getAssetIDfromIP(assetIP=\"\"):\n",
    "    getAssetSearchURL = HOSTNAME + \"api/3/assets/search\"\n",
    "    payloads = {\n",
    "        \"filters\": [\n",
    "            {\n",
    "                \"field\": \"ip-address\",\n",
    "                \"operator\": \"is\",\n",
    "                \"value\": str(assetIP)\n",
    "            }\n",
    "        ],\n",
    "        \"match\": \"any\"\n",
    "    }\n",
    "    print(\"\\nSearch Asset ID by Asset IP\")\n",
    "    print(\"Hostname : \" + getAssetSearchURL)\n",
    "    r = requests.post(getAssetSearchURL, data=json.dumps(payloads),\n",
    "                      headers=HEADER, verify=False)\n",
    "    if r.status_code == 200:\n",
    "        r = r.json()\n",
    "        if r[\"resources\"][0][\"id\"]:\n",
    "            assetID = str(r[\"resources\"][0][\"id\"])\n",
    "            print(\"Your Asset ID : \" + assetID)\n",
    "            return assetID\n",
    "        else:\n",
    "            print(\"\\n[Not Found] Your Asset IP\")\n",
    "            return None\n",
    "    else:\n",
    "        print(\"[Error] Request Connection Error.\")"
   ]
  },
  {
   "cell_type": "code",
   "execution_count": null,
   "metadata": {},
   "outputs": [],
   "source": [
    "def getAssetInfofromID(assetID=\"\"):\n",
    "    getAssetSearchURL = HOSTNAME + \"api/3/assets/\" + str(assetID)\n",
    "    print(\"\\nSearch Asset IP by Asset ID\")\n",
    "    print(\"Hostname : \" + getAssetSearchURL)\n",
    "    r = requests.get(getAssetSearchURL, headers=HEADER, verify=False)\n",
    "    if r.status_code == 200:\n",
    "        r = r.json()\n",
    "        return r\n",
    "    else:\n",
    "        print(\"[Error] Request Connection Error.\")"
   ]
  },
  {
   "cell_type": "code",
   "execution_count": null,
   "metadata": {},
   "outputs": [],
   "source": [
    "def findlastAgentScantime(assetHistory=\"\"):\n",
    "    agentScan = [a for a in assetHistory if a[\"type\"] == \"AGENT-IMPORT\"]\n",
    "    if agentScan != []:\n",
    "        return agentScan[-1]\n",
    "    return {}"
   ]
  },
  {
   "cell_type": "code",
   "execution_count": null,
   "metadata": {},
   "outputs": [],
   "source": [
    "def craftagentScanTimeData(ip=\"\",agentScanTime={}):\n",
    "    if agentScanTime != {}:\n",
    "        return {\n",
    "            \"ip\" : ip,\n",
    "            \"scanLastTime\" : agentScanTime[\"date\"],\n",
    "            \"type\" : agentScanTime[\"type\"],\n",
    "        }\n",
    "    else:\n",
    "        return {\n",
    "            \"ip\" : ip,\n",
    "            \"scanLastTime\" : \"N/A\",\n",
    "            \"type\" : \"N/A\",\n",
    "        }"
   ]
  },
  {
   "cell_type": "code",
   "execution_count": null,
   "metadata": {},
   "outputs": [],
   "source": [
    "IPS = [\"\"]"
   ]
  },
  {
   "cell_type": "code",
   "execution_count": null,
   "metadata": {},
   "outputs": [],
   "source": [
    "allAssetAgentLastTimeInfo = []\n",
    "\n",
    "for assetIP in IPS:\n",
    "    print(\"IP : \" + assetIP)\n",
    "    assetID = getAssetIDfromIP(assetIP=assetIP)\n",
    "    if assetID:\n",
    "        assetInfo = getAssetInfofromID(assetID=assetID)\n",
    "        agentScanTime=findlastAgentScantime(assetHistory=assetInfo[\"history\"])\n",
    "        allAssetAgentLastTimeInfo.append(craftagentScanTimeData(ip=assetInfo[\"ip\"],agentScanTime=agentScanTime))\n",
    "    else:\n",
    "        print(\"Not found this IP in insightVM\")\n",
    "    \n",
    "allAssetAgentLastTimeInfo_df = pd.DataFrame(allAssetAgentLastTimeInfo)"
   ]
  },
  {
   "cell_type": "code",
   "execution_count": null,
   "metadata": {},
   "outputs": [],
   "source": [
    "allAssetAgentLastTimeInfo_df"
   ]
  },
  {
   "cell_type": "code",
   "execution_count": null,
   "metadata": {},
   "outputs": [],
   "source": []
  }
 ],
 "metadata": {
  "kernelspec": {
   "display_name": "Python 3",
   "language": "python",
   "name": "python3"
  },
  "language_info": {
   "codemirror_mode": {
    "name": "ipython",
    "version": 3
   },
   "file_extension": ".py",
   "mimetype": "text/x-python",
   "name": "python",
   "nbconvert_exporter": "python",
   "pygments_lexer": "ipython3",
   "version": "3.8.3"
  }
 },
 "nbformat": 4,
 "nbformat_minor": 4
}
