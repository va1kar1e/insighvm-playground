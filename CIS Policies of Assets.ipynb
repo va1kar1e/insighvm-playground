{
 "cells": [
  {
   "cell_type": "markdown",
   "metadata": {},
   "source": [
    "# CIS Policies of Assets"
   ]
  },
  {
   "cell_type": "code",
   "execution_count": null,
   "metadata": {},
   "outputs": [],
   "source": [
    "import sys\n",
    "import time, datetime\n",
    "import pandas as pd\n",
    "import requests\n",
    "import urllib3\n",
    "urllib3.disable_warnings(urllib3.exceptions.InsecureRequestWarning)\n",
    "from IPython.display import display, HTML\n",
    "from bs4 import BeautifulSoup\n",
    "import re\n",
    "\n",
    "from insightvm_authen import InsightvmAuthentication"
   ]
  },
  {
   "cell_type": "code",
   "execution_count": null,
   "metadata": {},
   "outputs": [],
   "source": [
    "HOSTNAME = InsightvmAuthentication().getHostname()\n",
    "HEADER = InsightvmAuthentication().getRequestHeader()\n",
    "# HOSTNAME, HEADER"
   ]
  },
  {
   "cell_type": "markdown",
   "metadata": {},
   "source": [
    "## Get All Assets in Site by SiteID"
   ]
  },
  {
   "cell_type": "code",
   "execution_count": null,
   "metadata": {},
   "outputs": [],
   "source": [
    "def getAssetsInSite(siteID=\"\"):\n",
    "    assets, page = [], 0\n",
    "    print(\"\\nGetting Assets of Your Site\")\n",
    "    \n",
    "    getAssetsInSiteURL = HOSTNAME + \"api/3/sites/\" + str(siteID) + \"/assets\"\n",
    "    \n",
    "    params = {\n",
    "        'size': 500,\n",
    "        'page': 0\n",
    "    }\n",
    "    \n",
    "    assetAllInfos = []\n",
    "    \n",
    "    while True:\n",
    "        print(\"Hostname : \" + getAssetsInSiteURL)\n",
    "        assetInPage = requests.get(getAssetsInSiteURL, params=params, headers=HEADER, verify=False)\n",
    "        \n",
    "        if assetInPage.status_code == 200:\n",
    "            assetInPage = assetInPage.json()\n",
    "        \n",
    "            if assetInPage[\"page\"][\"totalResources\"] == 0:\n",
    "                print(\"[Not Found] Don't have assets in your site ID\")\n",
    "                sys.exit()\n",
    "\n",
    "            assetAllInfos += assetInPage[\"resources\"]\n",
    "            \n",
    "            if (assetInPage[\"page\"][\"totalPages\"] == params[\"page\"]+1) and (assetInPage[\"page\"][\"totalResources\"] == len(assetAllInfos)):\n",
    "                assetAddressInfos = [{\"id\": ass [\"id\"], \"ip\": ass [\"ip\"], \"hostName\": ass [\"hostName\"]} for ass in assetAllInfos]\n",
    "                return assetAllInfos, assetAddressInfos\n",
    "            else:\n",
    "                params[\"page\"] += 1\n",
    "        else:\n",
    "            print(\"[Error] Request Connection Error.\")\n",
    "            print(assetInPage.status_code())\n",
    "            sys.exit()"
   ]
  },
  {
   "cell_type": "code",
   "execution_count": null,
   "metadata": {},
   "outputs": [],
   "source": [
    "siteIDs = ['1104']"
   ]
  },
  {
   "cell_type": "code",
   "execution_count": null,
   "metadata": {},
   "outputs": [],
   "source": [
    "siteID = siteIDs[0]\n",
    "assetAllInfos, assetAddressInfos = getAssetsInSite(siteID=siteID)\n",
    "len(assetAddressInfos), assetAddressInfos"
   ]
  },
  {
   "cell_type": "code",
   "execution_count": null,
   "metadata": {},
   "outputs": [],
   "source": []
  },
  {
   "cell_type": "markdown",
   "metadata": {},
   "source": [
    "## Get Policies of Asset"
   ]
  },
  {
   "cell_type": "code",
   "execution_count": null,
   "metadata": {},
   "outputs": [],
   "source": [
    "def extractCISPolicy(data={}):\n",
    "    return {\n",
    "        \"surrogateId\": str(data[\"surrogateId\"]),\n",
    "        \"policyID\":data[\"id\"],\n",
    "        \"policyName\":data[\"policyName\"],\n",
    "        \"ruleCompliance\":data[\"ruleCompliance\"],\n",
    "        \"policyTitle\":data['title'],\n",
    "        \"benchmarkName\":data[\"benchmarkName\"],\n",
    "        \"failedRulesCount\": data[\"failedRulesCount\"],\n",
    "        \"passedRulesCount\": data[\"passedRulesCount\"]\n",
    "    }"
   ]
  },
  {
   "cell_type": "code",
   "execution_count": null,
   "metadata": {},
   "outputs": [],
   "source": [
    "def getCISPoliciesofAsset(assetID=None):\n",
    "    getCISPoliciesofAssetURL = HOSTNAME + 'api/3/assets/' + str(assetID) + '/policies'\n",
    "\n",
    "    params = {\n",
    "        'size': 500, # Get limited Policies in Assets : 500\n",
    "        'page': 0,\n",
    "        'applicableOnly': True\n",
    "    }\n",
    "    \n",
    "    print(\"Hostname : \" + getCISPoliciesofAssetURL)\n",
    "    \n",
    "    CISPoliciesofAsset = requests.get(getCISPoliciesofAssetURL, params=params, headers=HEADER, verify=False)\n",
    "    CISPoliciesofAsset = CISPoliciesofAsset.json()\n",
    "    \n",
    "    if CISPoliciesofAsset[\"page\"][\"totalResources\"] == 0:\n",
    "        print(\"[Error] Not Found CIS Policies.\")\n",
    "        \n",
    "    if CISPoliciesofAsset[\"page\"][\"totalPages\"] > 1:\n",
    "        print(\"[Error] CIS Policies in Asset more than 500.\")\n",
    "        print(\"CIS Policies : %d\" % (totalResources))\n",
    "    else:\n",
    "        print(\"Getting Successful.\")\n",
    "        return [extractCISPolicy(data=b) for b in CISPoliciesofAsset[\"resources\"]]"
   ]
  },
  {
   "cell_type": "code",
   "execution_count": null,
   "metadata": {},
   "outputs": [],
   "source": [
    "assetID = assetAddressInfos[46][\"id\"]\n",
    "policyInAsset = getCISPoliciesofAsset(assetID=assetID)"
   ]
  },
  {
   "cell_type": "code",
   "execution_count": null,
   "metadata": {},
   "outputs": [],
   "source": [
    "pd.DataFrame(policyInAsset)"
   ]
  },
  {
   "cell_type": "markdown",
   "metadata": {},
   "source": [
    "## Get Policies of Assets"
   ]
  },
  {
   "cell_type": "code",
   "execution_count": null,
   "metadata": {},
   "outputs": [],
   "source": [
    "def getCISPoliciesofAssets(assets=[]):\n",
    "    policiesInAssets = []\n",
    "    \n",
    "    for i, asset in enumerate(assets):\n",
    "        print(\"Asset %d of %d Assets\" % (i+1, len(assets)))\n",
    "        policyInAsset = getCISPoliciesofAsset(assetID=asset[\"id\"])\n",
    "        \n",
    "        policiesInAssets.append({\n",
    "            \"ip\": asset[\"ip\"],\n",
    "            \"assetId\": asset[\"id\"],\n",
    "            \"hostName\": asset[\"hostName\"],\n",
    "            \"policies\": policyInAsset\n",
    "        })\n",
    "        \n",
    "        time.sleep(2)\n",
    "    return policiesInAssets"
   ]
  },
  {
   "cell_type": "code",
   "execution_count": null,
   "metadata": {},
   "outputs": [],
   "source": [
    "policiesInAssets = getCISPoliciesofAssets(assets=assetAddressInfos)"
   ]
  },
  {
   "cell_type": "code",
   "execution_count": null,
   "metadata": {},
   "outputs": [],
   "source": [
    "pd.DataFrame(policiesInAssets)"
   ]
  },
  {
   "cell_type": "markdown",
   "metadata": {},
   "source": [
    "## CIS Policies and Assets Matrix Table"
   ]
  },
  {
   "cell_type": "markdown",
   "metadata": {},
   "source": [
    "Merging and Mapping CISPolicies and Score of Assets in sitescans"
   ]
  },
  {
   "cell_type": "code",
   "execution_count": null,
   "metadata": {},
   "outputs": [],
   "source": [
    "def summaryAssetsInPolicies(policiesInAssets=[]):\n",
    "    policies = {}\n",
    "    for asset in policiesInAssets:\n",
    "        for policy in asset[\"policies\"]:\n",
    "            if policy[\"surrogateId\"] not in policies:\n",
    "                policies[policy[\"surrogateId\"]] = {\n",
    "                    \"policyTitle\" : policy[\"policyTitle\"],\n",
    "                    \"assets\" : [asset[\"assetId\"]]\n",
    "                }\n",
    "            else:\n",
    "                policies[policy[\"surrogateId\"]][\"assets\"].append(asset[\"assetId\"])\n",
    "    return policies"
   ]
  },
  {
   "cell_type": "code",
   "execution_count": null,
   "metadata": {},
   "outputs": [],
   "source": [
    "policiesMatrix = summaryAssetsInPolicies(policiesInAssets=policiesInAssets)"
   ]
  },
  {
   "cell_type": "code",
   "execution_count": null,
   "metadata": {},
   "outputs": [],
   "source": [
    "assetIDs = [asset[\"assetId\"] for asset in policiesInAssets]\n",
    "assetIPs = [asset[\"ip\"] for asset in policiesInAssets]\n",
    "len(assetIDs), len(assetIPs)"
   ]
  },
  {
   "cell_type": "code",
   "execution_count": null,
   "metadata": {},
   "outputs": [],
   "source": [
    "policiesMxs = []\n",
    "for k,data in policiesMatrix.items():\n",
    "    policiesMx = [data[\"policyTitle\"]]\n",
    "    for ip in assetIDs:\n",
    "        if ip in data[\"assets\"]: policiesMx.append(0)\n",
    "        else: policiesMx.append(1)\n",
    "    \n",
    "    if 0 not in policiesMx[2:]: \n",
    "        print(\"Match Policies in All Assets: \" + data[\"policyTitle\"])\n",
    "\n",
    "    policiesMxs.append(policiesMx)"
   ]
  },
  {
   "cell_type": "code",
   "execution_count": null,
   "metadata": {},
   "outputs": [],
   "source": [
    "pd.DataFrame(policiesMxs, columns=[\"Policy\"] + assetIPs)"
   ]
  },
  {
   "cell_type": "code",
   "execution_count": null,
   "metadata": {},
   "outputs": [],
   "source": [
    "nowTime = datetime.datetime.now().strftime(\"(%y%m%d-%H%M%S) \")\n",
    "df.to_excel (\"outputs/\" + nowTime + 'policiesMap_' + siteID + '.xlsx', index = False, header=True)"
   ]
  },
  {
   "cell_type": "markdown",
   "metadata": {},
   "source": [
    "# Get Policy detail by Policy ID"
   ]
  },
  {
   "cell_type": "code",
   "execution_count": null,
   "metadata": {},
   "outputs": [],
   "source": [
    "def getPolicyDetail(policyID=None):\n",
    "    print(\"\\nGetting Policy Detail\")\n",
    "    r = requests.get(HOSTNAME + \"api/3/policies/\" + str(policyID), headers=HEADER, verify=False)\n",
    "    if r.status_code == 200:\n",
    "        r = r.json()\n",
    "        return r\n",
    "        if r[\"policy\"]:\n",
    "            return r[\"policy\"]\n",
    "        else:\n",
    "            print(\"\\n[Not Found] Your Policy in Scan Template\")\n",
    "    else:\n",
    "        print(\"[Error] Request Connection Error.\")\n",
    "        print(r.status_code)"
   ]
  },
  {
   "cell_type": "code",
   "execution_count": null,
   "metadata": {},
   "outputs": [],
   "source": [
    "policyId=policiesInAssets[0][\"policies\"][0][\"surrogateId\"]"
   ]
  },
  {
   "cell_type": "code",
   "execution_count": null,
   "metadata": {},
   "outputs": [],
   "source": [
    "getPolicyDetail(policyID=policyId)"
   ]
  },
  {
   "cell_type": "markdown",
   "metadata": {},
   "source": [
    "## Get Rules by AssetId, PolicyID"
   ]
  },
  {
   "cell_type": "code",
   "execution_count": null,
   "metadata": {},
   "outputs": [],
   "source": [
    "def getRuleofAsset(assetID=None, policyId=None):\n",
    "    # use surrogateId for policyId\n",
    "    getRuleProofofAssetURL = HOSTNAME + 'api/3/assets/' + str(assetID) + '/policies/' + str(policyId) + '/rules'\n",
    "    \n",
    "    print(\"Asset ID : %d\" % (assetID))\n",
    "    print(\"Policies ID (SurrogateId) : %s\" % (policyId))\n",
    "    \n",
    "    params = {\n",
    "        'page' : 0,\n",
    "        'size' : 500\n",
    "    }\n",
    "    \n",
    "    rulesofAsset = []\n",
    "    \n",
    "    while True:\n",
    "        print(\"Hostname : \" + getRuleProofofAssetURL)\n",
    "        \n",
    "        ruleofAsset = requests.get(getRuleProofofAssetURL, params=params, headers=HEADER, verify=False)\n",
    "\n",
    "        if ruleofAsset.status_code == 200:\n",
    "            ruleofAsset = ruleofAsset.json()\n",
    "\n",
    "            if ruleofAsset[\"page\"][\"totalResources\"] == 0:\n",
    "                print(\"[Not Found] Don't have rules in your AssetID and PolicyID\")\n",
    "                sys.exit()\n",
    "\n",
    "            rulesofAsset += ruleofAsset[\"resources\"]\n",
    "\n",
    "            if (ruleofAsset[\"page\"][\"totalPages\"] == params[\"page\"]+1 and ruleofAsset[\"page\"][\"totalResources\"] == len(rulesofAsset)):\n",
    "                return rulesofAsset\n",
    "            else:\n",
    "                params[\"page\"] += 1\n",
    "        else:\n",
    "            print(\"[Error] Request Connection Error.\")\n",
    "            print(ruleofAsset.status_code())\n",
    "            sys.exit()"
   ]
  },
  {
   "cell_type": "code",
   "execution_count": null,
   "metadata": {},
   "outputs": [],
   "source": [
    "# policiesInAssets[0]"
   ]
  },
  {
   "cell_type": "code",
   "execution_count": null,
   "metadata": {},
   "outputs": [],
   "source": [
    "assetID=policiesInAssets[0][\"assetId\"]\n",
    "policyId=policiesInAssets[0][\"policies\"][0][\"surrogateId\"]"
   ]
  },
  {
   "cell_type": "code",
   "execution_count": null,
   "metadata": {},
   "outputs": [],
   "source": [
    "rulesofAsset = getRuleofAsset(assetID=assetID, policyId=policyId)\n",
    "len(rulesofAsset)"
   ]
  },
  {
   "cell_type": "code",
   "execution_count": null,
   "metadata": {},
   "outputs": [],
   "source": [
    "rulesofAsset[0][\"benchmark\"]"
   ]
  },
  {
   "cell_type": "code",
   "execution_count": null,
   "metadata": {},
   "outputs": [],
   "source": [
    "pd.DataFrame(rulesofAsset)"
   ]
  },
  {
   "cell_type": "markdown",
   "metadata": {},
   "source": [
    "## Get Rule Proof by AssetId, PolicyID, RuleID"
   ]
  },
  {
   "cell_type": "code",
   "execution_count": null,
   "metadata": {},
   "outputs": [],
   "source": [
    "def getRuleProofofAsset(assetID=None, policyId=None, ruleId=None):\n",
    "    getRuleProofofAssetURL = HOSTNAME + 'api/3/policies/' + str(policyId) + '/rules/' + str(ruleId) + '/assets/' + str(assetID) + '/proof'\n",
    "\n",
    "    print(\"Hostname : \" + getRuleProofofAssetURL)\n",
    "    \n",
    "    header = {\n",
    "        'Host': HEADER[\"Host\"],\n",
    "        'Authorization': HEADER[\"Authorization\"]\n",
    "    }\n",
    "    \n",
    "    proofofAsset = requests.get(getRuleProofofAssetURL, headers=header, verify=False)\n",
    "\n",
    "    if proofofAsset.status_code == 200:\n",
    "        return proofofAsset.text\n",
    "    else:\n",
    "        print(\"[Error %d] Not found Proof\" % (proofofAsset.status_code))"
   ]
  },
  {
   "cell_type": "code",
   "execution_count": null,
   "metadata": {},
   "outputs": [],
   "source": [
    "policy = policiesInAssets[0]"
   ]
  },
  {
   "cell_type": "code",
   "execution_count": null,
   "metadata": {},
   "outputs": [],
   "source": [
    "assetID=policy[\"assetId\"]\n",
    "policyId=policy[\"policies\"][0][\"surrogateId\"]"
   ]
  },
  {
   "cell_type": "code",
   "execution_count": null,
   "metadata": {},
   "outputs": [],
   "source": [
    "proofOfAsset = getRuleProofofAsset(assetID=assetID, policyId=policyId, ruleId=rulesofAsset[0][\"surrogateId\"])\n",
    "display(HTML(proofOfAsset))"
   ]
  },
  {
   "cell_type": "code",
   "execution_count": null,
   "metadata": {},
   "outputs": [],
   "source": [
    "proofOfAsset"
   ]
  },
  {
   "cell_type": "code",
   "execution_count": null,
   "metadata": {},
   "outputs": [],
   "source": [
    "proofOfAsset_text = BeautifulSoup(proofOfAsset, features=\"html.parser\")\n",
    "# proofOfAsset_text\n",
    "# proofOfAsset = re.sub(' +', ' ', proofOfAsset)\n",
    "# proofOfAsset = re.sub('\\n+', '\\n', proofOfAsset)\n",
    "proofOfAsset_text.get_text().splitlines()"
   ]
  },
  {
   "cell_type": "markdown",
   "metadata": {},
   "source": [
    "## Get Rule Remediate by PolicyID, RuleID"
   ]
  },
  {
   "cell_type": "code",
   "execution_count": null,
   "metadata": {},
   "outputs": [],
   "source": [
    "def getRuleRemediate(policyId=None, ruleId=None):\n",
    "    getRuleRemediateURL = HOSTNAME + 'api/3/policies/' + str(policyId) + '/rules/' + str(ruleId) + '/remediation'\n",
    "\n",
    "    print(\"Hostname : \" + getRuleRemediateURL)\n",
    "    \n",
    "    header = {\n",
    "        'Host': HEADER[\"Host\"],\n",
    "        'Authorization': HEADER[\"Authorization\"]\n",
    "    }\n",
    "    \n",
    "    getRuleRemediate = requests.get(getRuleRemediateURL, headers=header, verify=False)\n",
    "\n",
    "    if getRuleRemediate.status_code == 200:\n",
    "        return getRuleRemediate.text\n",
    "    else:\n",
    "        print(\"[Error %d] Not found Proof\" % (getRuleRemediate.status_code))"
   ]
  },
  {
   "cell_type": "code",
   "execution_count": null,
   "metadata": {},
   "outputs": [],
   "source": [
    "policy = policiesInAssets[0]\n",
    "policyId=policy[\"policies\"][0][\"surrogateId\"]"
   ]
  },
  {
   "cell_type": "code",
   "execution_count": null,
   "metadata": {},
   "outputs": [],
   "source": [
    "ruleRemediate = getRuleRemediate(policyId=policyId, ruleId=rulesofAsset[0][\"surrogateId\"])\n",
    "display(HTML(ruleRemediate))"
   ]
  },
  {
   "cell_type": "code",
   "execution_count": null,
   "metadata": {},
   "outputs": [],
   "source": [
    "ruleRemediate_text = BeautifulSoup(ruleRemediate, \"lxml\").text\n",
    "ruleRemediate_text = re.sub(' +', ' ', ruleRemediate_text)\n",
    "ruleRemediate_text = re.sub('\\n+', '\\n', ruleRemediate_text)\n",
    "ruleRemediate_text"
   ]
  },
  {
   "cell_type": "code",
   "execution_count": null,
   "metadata": {},
   "outputs": [],
   "source": []
  },
  {
   "cell_type": "code",
   "execution_count": null,
   "metadata": {},
   "outputs": [],
   "source": []
  },
  {
   "cell_type": "code",
   "execution_count": null,
   "metadata": {},
   "outputs": [],
   "source": []
  }
 ],
 "metadata": {
  "kernelspec": {
   "display_name": "Python 3",
   "language": "python",
   "name": "python3"
  },
  "language_info": {
   "codemirror_mode": {
    "name": "ipython",
    "version": 3
   },
   "file_extension": ".py",
   "mimetype": "text/x-python",
   "name": "python",
   "nbconvert_exporter": "python",
   "pygments_lexer": "ipython3",
   "version": "3.8.8"
  }
 },
 "nbformat": 4,
 "nbformat_minor": 4
}
