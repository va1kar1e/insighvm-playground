{
 "cells": [
  {
   "cell_type": "markdown",
   "metadata": {},
   "source": [
    "# Search Asset by Filter"
   ]
  },
  {
   "cell_type": "code",
   "execution_count": null,
   "metadata": {},
   "outputs": [],
   "source": [
    "import sys\n",
    "import json\n",
    "import time, datetime\n",
    "import pandas as pd\n",
    "import requests, urllib3\n",
    "urllib3.disable_warnings(urllib3.exceptions.InsecureRequestWarning)\n",
    "\n",
    "from insightvm_authen import InsightvmAuthentication"
   ]
  },
  {
   "cell_type": "code",
   "execution_count": null,
   "metadata": {},
   "outputs": [],
   "source": [
    "HOSTNAME = InsightvmAuthentication().getHostname()\n",
    "HEADER = InsightvmAuthentication().getRequestHeader()\n",
    "# HOSTNAME, HEADER"
   ]
  },
  {
   "cell_type": "markdown",
   "metadata": {},
   "source": [
    "## 1. Search By Software and Tag"
   ]
  },
  {
   "cell_type": "code",
   "execution_count": null,
   "metadata": {},
   "outputs": [],
   "source": [
    "software = \"Internet Information Services 7.0\"\n",
    "tag=\"XXX\""
   ]
  },
  {
   "cell_type": "code",
   "execution_count": null,
   "metadata": {},
   "outputs": [],
   "source": [
    "getAssetSearchURL = HOSTNAME + \"api/3/assets/search\"\n",
    "\n",
    "params = {\n",
    "    \"size\" : 100,\n",
    "    \"sort\" : \"ASC\"\n",
    "}\n",
    "\n",
    "payloads = {\n",
    "    \"filters\": [\n",
    "        {\n",
    "            \"field\": \"software\",\n",
    "            \"operator\": \"contains\",\n",
    "            \"value\": str(software)\n",
    "        },\n",
    "        {\n",
    "            \"field\": \"custom-tag\",\n",
    "            \"operator\": \"contains\",\n",
    "            \"value\": str(tag)\n",
    "        }\n",
    "    ],\n",
    "    \"match\": \"all\"\n",
    "}\n",
    "# payloads"
   ]
  },
  {
   "cell_type": "code",
   "execution_count": null,
   "metadata": {},
   "outputs": [],
   "source": [
    "searchAssetBySWandTag = requests.post(getAssetSearchURL, params=params, data=json.dumps(payloads), headers=HEADER, verify=False)\n",
    "searchAssetBySWandTag = searchAssetBySWandTag.json()\n",
    "searchAssetBySWandTag = searchAssetBySWandTag[\"resources\"]"
   ]
  },
  {
   "cell_type": "code",
   "execution_count": null,
   "metadata": {},
   "outputs": [],
   "source": [
    "nowTime = datetime.datetime.now().strftime(\"(%y%m%d-%H%M%S) \")\n",
    "filepath=\"outputs/\" + nowTime + \"asset_\" + \"software&tag.json\""
   ]
  },
  {
   "cell_type": "code",
   "execution_count": null,
   "metadata": {},
   "outputs": [],
   "source": [
    "with open(filepath, 'w', encoding=\"utf8\") as f:\n",
    "    f.write(json.dumps(searchAssetBySWandTag, indent=4))\n",
    "print(\"\\n[Success Exporting] \" + filepath)"
   ]
  },
  {
   "cell_type": "markdown",
   "metadata": {},
   "source": [
    "## 2. Search By Scan Time Period"
   ]
  },
  {
   "cell_type": "code",
   "execution_count": null,
   "metadata": {},
   "outputs": [],
   "source": [
    "def validateDatetime(date_text=\"\"):\n",
    "    try:\n",
    "        datetime.datetime.strptime(date_text, '%Y-%m-%d')\n",
    "        return date_text\n",
    "    except ValueError:\n",
    "        raise ValueError(\"Incorrect data format, should be YYYY-MM-DD\")"
   ]
  },
  {
   "cell_type": "code",
   "execution_count": null,
   "metadata": {},
   "outputs": [],
   "source": [
    "def searchAssetByScanPeriod(startDate=\"\", stopDate=\"\"):\n",
    "    page, totalPages, totalAssets = 0, 1, 0\n",
    "    datas = []\n",
    "    print(\"\\nSearch Asset ID by Asset IP\")\n",
    "    while page < totalPages:\n",
    "        getAssetSearchURL = HOSTNAME + \"api/3/assets/search?size=100&sort=ASC&page=\" + str(page)\n",
    "        print(\"Hostname : \" + getAssetSearchURL)\n",
    "        \n",
    "        payloads = {\n",
    "            \"filters\": [\n",
    "                {\n",
    "                    \"field\": \"last-scan-date\",\n",
    "                    \"operator\": \"is-between\",\n",
    "                    \"lower\": validateDatetime(date_text=startDate),\n",
    "                    \"upper\": validateDatetime(date_text=stopDate),\n",
    "                }\n",
    "            ],\n",
    "            \"match\": \"all\"\n",
    "        }\n",
    "        # payloads\n",
    "\n",
    "        r = requests.post(getAssetSearchURL, data=json.dumps(payloads), headers=HEADER, verify=False)\n",
    "        if r.status_code == 200:\n",
    "            r = r.json()\n",
    "            if page == 0:\n",
    "                totalPages = r[\"page\"][\"totalPages\"]\n",
    "                print(\"Total Pages : \" + str(totalPages))\n",
    "                totalAssets = r[\"page\"][\"totalResources\"]\n",
    "                print(\"Total Assets : \" + str(totalAssets))\n",
    "\n",
    "            for line in r[\"resources\"]:\n",
    "                del(line[\"links\"])\n",
    "                datas.append(line)\n",
    "            print(\"[Writing] Page %d of %d\" % ((page + 1), (totalPages)))\n",
    "            page += 1\n",
    "            time.sleep(2)\n",
    "        else:\n",
    "            print(\"[Error] Request Connection Error.\")\n",
    "            sys.exit()\n",
    "    if len(datas) == totalAssets:\n",
    "        print(\"[Successful] %d of %d\" % (len(datas), (totalAssets)))\n",
    "        return datas\n",
    "    else:\n",
    "        print(\"[Error] %d of %d\" % (len(datas), (totalAssets + 1)))"
   ]
  },
  {
   "cell_type": "code",
   "execution_count": null,
   "metadata": {},
   "outputs": [],
   "source": [
    "startDate = \"2021-06-01\"\n",
    "stopDate = \"2021-08-31\""
   ]
  },
  {
   "cell_type": "code",
   "execution_count": null,
   "metadata": {},
   "outputs": [],
   "source": [
    "searchAssetByPeriod = searchAssetByScanPeriod(startDate=startDate, stopDate=stopDate)"
   ]
  },
  {
   "cell_type": "code",
   "execution_count": null,
   "metadata": {},
   "outputs": [],
   "source": [
    "# len(searchAssetByPeriod), searchAssetByPeriod[0]"
   ]
  },
  {
   "cell_type": "code",
   "execution_count": null,
   "metadata": {},
   "outputs": [],
   "source": [
    "nowTime = datetime.datetime.now().strftime(\"(%y%m%d-%H%M%S) \")\n",
    "filepath=\"outputs/\" + nowTime + \"asset-scantime_\" + startDate + \"-\" + stopDate + \".json\""
   ]
  },
  {
   "cell_type": "code",
   "execution_count": null,
   "metadata": {},
   "outputs": [],
   "source": [
    "with open(filepath, 'w', encoding=\"utf8\") as f:\n",
    "    f.write(json.dumps(searchAssetByPeriod, indent=4))\n",
    "print(\"\\n[Success Exporting] \" + filepath)"
   ]
  },
  {
   "cell_type": "code",
   "execution_count": null,
   "metadata": {},
   "outputs": [],
   "source": [
    "def generateHistoryString(data=[]):\n",
    "#     text = []\n",
    "#     for h in data:\n",
    "#         linetext = [str(x) for x in h.values() if h[\"type\"] == \"SCAN\"]\n",
    "#         if linetext != []:\n",
    "#             text.append('#'.join(linetext))\n",
    "#     return ','.join(text)\n",
    "\n",
    "    linetext = [str(x) for x in data[0].values()]\n",
    "    return '#'.join(linetext)"
   ]
  },
  {
   "cell_type": "code",
   "execution_count": null,
   "metadata": {},
   "outputs": [],
   "source": [
    "def extractData(data={}):\n",
    "    return {\n",
    "        \"id\": data[\"id\"],\n",
    "        \"ip\": data[\"ip\"],\n",
    "        \"history\": generateHistoryString(data[\"history\"])\n",
    "    }"
   ]
  },
  {
   "cell_type": "code",
   "execution_count": null,
   "metadata": {},
   "outputs": [],
   "source": [
    "ips = [extractData(data=dat) for dat in searchAssetByPeriod]\n",
    "ips = [i for i in ips if i[\"history\"] != \"\"]\n",
    "ips = pd.DataFrame(ips)\n",
    "ips.head()"
   ]
  },
  {
   "cell_type": "code",
   "execution_count": null,
   "metadata": {},
   "outputs": [],
   "source": [
    "nowTime = datetime.datetime.now().strftime(\"(%y%m%d-%H%M%S) \")\n",
    "filepath=\"outputs/\" + nowTime + \"asset-scantime_\" + startDate + \"-\" + stopDate + \".csv\""
   ]
  },
  {
   "cell_type": "code",
   "execution_count": null,
   "metadata": {},
   "outputs": [],
   "source": [
    "ips.to_csv(filepath, sep=',', encoding='utf-8', index=False)"
   ]
  },
  {
   "cell_type": "markdown",
   "metadata": {},
   "source": [
    "# Search VM Center"
   ]
  },
  {
   "cell_type": "code",
   "execution_count": null,
   "metadata": {},
   "outputs": [],
   "source": [
    "software_search = \"vCenter\""
   ]
  },
  {
   "cell_type": "code",
   "execution_count": null,
   "metadata": {},
   "outputs": [],
   "source": [
    "getAssetSearchURL = HOSTNAME + \"api/3/assets/search\"\n",
    "\n",
    "params = {\n",
    "    \"size\" : 100,\n",
    "    \"sort\" : \"ASC\"\n",
    "}\n",
    "\n",
    "payloads = {\n",
    "    \"filters\": [\n",
    "        {\n",
    "            \"field\": \"software\",\n",
    "            \"operator\": \"contains\",\n",
    "            \"value\": str(software_search)\n",
    "        }\n",
    "    ],\n",
    "    \"match\": \"all\"\n",
    "}\n",
    "\n",
    "# payloads"
   ]
  },
  {
   "cell_type": "code",
   "execution_count": null,
   "metadata": {},
   "outputs": [],
   "source": [
    "searchAssetBySW = requests.post(getAssetSearchURL, params=params, data=json.dumps(payloads), headers=HEADER, verify=False)\n",
    "searchAssetBySW = searchAssetBySW.json()\n",
    "#searchAssetBySW = searchAssetBySW[\"resources\"]"
   ]
  },
  {
   "cell_type": "code",
   "execution_count": null,
   "metadata": {},
   "outputs": [],
   "source": [
    "def findVcenter(data=[]):\n",
    "    for d in data:\n",
    "        if \"vcenter\" in d[\"product\"].lower():\n",
    "            return {\n",
    "                \"software\": d[\"product\"],\n",
    "               \"version\": d[\"version\"]\n",
    "            }\n",
    "    return None"
   ]
  },
  {
   "cell_type": "code",
   "execution_count": null,
   "metadata": {},
   "outputs": [],
   "source": [
    "def extractVcenter(data={}):\n",
    "    return {**{\n",
    "        \"ip\": data[\"ip\"],\n",
    "        \"hostName\": data[\"hostName\"]\n",
    "    }, **findVcenter(data[\"software\"])}"
   ]
  },
  {
   "cell_type": "code",
   "execution_count": null,
   "metadata": {},
   "outputs": [],
   "source": [
    "searchAssetBySW = [extractVcenter(d) for d in searchAssetBySW[\"resources\"]]"
   ]
  },
  {
   "cell_type": "code",
   "execution_count": null,
   "metadata": {},
   "outputs": [],
   "source": [
    "searchAssetBySW_df = pd.DataFrame(searchAssetBySW) #[[\"ip\",\"hostName\"]]"
   ]
  },
  {
   "cell_type": "code",
   "execution_count": null,
   "metadata": {},
   "outputs": [],
   "source": [
    "nowTime = datetime.datetime.now().strftime(\"(%y%m%d-%H%M%S) \")\n",
    "filepath=\"outputs/\" + nowTime + \"asset_vCenter.csv\""
   ]
  },
  {
   "cell_type": "code",
   "execution_count": null,
   "metadata": {},
   "outputs": [],
   "source": [
    "searchAssetBySW_df.to_csv(filepath, index=False, encoding='utf-8')"
   ]
  },
  {
   "cell_type": "code",
   "execution_count": null,
   "metadata": {},
   "outputs": [],
   "source": []
  },
  {
   "cell_type": "markdown",
   "metadata": {},
   "source": [
    "# Search by CVE with Asset Tag"
   ]
  },
  {
   "cell_type": "code",
   "execution_count": null,
   "metadata": {},
   "outputs": [],
   "source": [
    "assetTag = \"<Custom Tag>\""
   ]
  },
  {
   "cell_type": "code",
   "execution_count": null,
   "metadata": {},
   "outputs": [],
   "source": [
    "cve_text = \"CVE-2021-26897\""
   ]
  },
  {
   "cell_type": "code",
   "execution_count": null,
   "metadata": {},
   "outputs": [],
   "source": [
    "getAssetSearchURL = HOSTNAME + \"api/3/assets/search\"\n",
    "\n",
    "params = {\n",
    "    \"size\" : 100,\n",
    "    \"sort\" : \"ASC\"\n",
    "}\n",
    "\n",
    "payloads = {\n",
    "    \"filters\": [\n",
    "        {\n",
    "            \"field\": \"custom-tag\", #owner-tag\n",
    "            \"operator\": \"is\",\n",
    "            \"value\": str(assetTag)\n",
    "        },\n",
    "        {\n",
    "            \"field\": \"cve\",\n",
    "            \"operator\": \"is\",\n",
    "            \"value\": str(cve_text)\n",
    "        }\n",
    "    ],\n",
    "    \"match\": \"all\"\n",
    "}\n",
    "\n",
    "# payloads"
   ]
  },
  {
   "cell_type": "code",
   "execution_count": null,
   "metadata": {},
   "outputs": [],
   "source": [
    "searchAssetByCVEwithAsstTag = requests.post(getAssetSearchURL, params=params, data=json.dumps(payloads), headers=HEADER, verify=False)\n",
    "searchAssetByCVEwithAsstTag = searchAssetByCVEwithAsstTag.json()\n",
    "searchAssetByCVEwithAsstTag[\"page\"]"
   ]
  },
  {
   "cell_type": "code",
   "execution_count": null,
   "metadata": {},
   "outputs": [],
   "source": [
    "searchAssetByCVEwithAsstTag = searchAssetByCVEwithAsstTag[\"resources\"]\n",
    "searchAssetByCVEwithAsstTag"
   ]
  },
  {
   "cell_type": "code",
   "execution_count": null,
   "metadata": {},
   "outputs": [],
   "source": []
  },
  {
   "cell_type": "markdown",
   "metadata": {},
   "source": [
    "Run Multiple"
   ]
  },
  {
   "cell_type": "code",
   "execution_count": null,
   "metadata": {},
   "outputs": [],
   "source": [
    "def extractAssetInfo(data={}, cve_text=\"\"):\n",
    "     return { \n",
    "         \"cve\" : cve_text ,\n",
    "         \"ip\" : data[\"ip\"],\n",
    "         \"hostName\" : data[\"hostName\"],\n",
    "         \"softwares\" : data[\"software\"]\n",
    "     }"
   ]
  },
  {
   "cell_type": "code",
   "execution_count": null,
   "metadata": {},
   "outputs": [],
   "source": [
    "def searchAssetbyCVEWithAssetTag(assetTag=\"\", cve_text=\"\"):\n",
    "    getAssetSearchURL = HOSTNAME + \"api/3/assets/search\"\n",
    "\n",
    "    params = {\n",
    "        \"size\" : 100,\n",
    "        \"sort\" : \"ASC\"\n",
    "    }\n",
    "\n",
    "    payloads = {\n",
    "        \"filters\": [\n",
    "            {\n",
    "                \"field\": \"custom-tag\",\n",
    "                \"operator\": \"is\",\n",
    "                \"value\": str(assetTag)\n",
    "            },\n",
    "            {\n",
    "                \"field\": \"cve\",\n",
    "                \"operator\": \"is\",\n",
    "                \"value\": str(cve_text)\n",
    "            }\n",
    "        ],\n",
    "        \"match\": \"all\"\n",
    "    }\n",
    "\n",
    "    # payloads\n",
    "    searchAssetByCVEwithAsstTag = requests.post(getAssetSearchURL, params=params, data=json.dumps(payloads), headers=HEADER, verify=False)\n",
    "    searchAssetByCVEwithAsstTag = searchAssetByCVEwithAsstTag.json()\n",
    "\n",
    "    return str(searchAssetByCVEwithAsstTag[\"page\"][\"totalResources\"]), [extractAssetInfo(data=asst, cve_text=cve_text) for asst in searchAssetByCVEwithAsstTag[\"resources\"]]"
   ]
  },
  {
   "cell_type": "code",
   "execution_count": null,
   "metadata": {},
   "outputs": [],
   "source": [
    "cves = [\n",
    "    'CVE-2021-40438',\n",
    "    'CVE-2021-40444',\n",
    "    'CVE-2021-40449'\n",
    "]"
   ]
  },
  {
   "cell_type": "code",
   "execution_count": null,
   "metadata": {},
   "outputs": [],
   "source": [
    "assetTag = \"<Custom Tag>\"\n",
    "\n",
    "assets = []"
   ]
  },
  {
   "cell_type": "code",
   "execution_count": null,
   "metadata": {},
   "outputs": [],
   "source": [
    "for i in range(0, len(cves)): # \n",
    "    totalResources, assets_search = searchAssetbyCVEWithAssetTag(assetTag=assetTag, cve_text=cves[i])\n",
    "    assets += assets_search\n",
    "    print(str(i) + \",\" + cves[i] + \",\" + totalResources)\n",
    "    time.sleep(10)"
   ]
  },
  {
   "cell_type": "code",
   "execution_count": null,
   "metadata": {},
   "outputs": [],
   "source": [
    "# list(assets_search[0].keys())"
   ]
  },
  {
   "cell_type": "code",
   "execution_count": null,
   "metadata": {},
   "outputs": [],
   "source": [
    "assets_df = pd.DataFrame(assets)\n",
    "assets_df"
   ]
  },
  {
   "cell_type": "code",
   "execution_count": null,
   "metadata": {},
   "outputs": [],
   "source": [
    "nowTime = datetime.datetime.now().strftime(\"(%y%m%d-%H%M%S) \")\n",
    "filepath=\"outputs/\" + nowTime + \"filename.csv\""
   ]
  },
  {
   "cell_type": "code",
   "execution_count": null,
   "metadata": {},
   "outputs": [],
   "source": [
    "assets_df.to_csv(filepath, index=False, encoding='utf-8')"
   ]
  },
  {
   "cell_type": "code",
   "execution_count": null,
   "metadata": {},
   "outputs": [],
   "source": []
  },
  {
   "cell_type": "code",
   "execution_count": null,
   "metadata": {},
   "outputs": [],
   "source": []
  }
 ],
 "metadata": {
  "kernelspec": {
   "display_name": "Python 3",
   "language": "python",
   "name": "python3"
  },
  "language_info": {
   "codemirror_mode": {
    "name": "ipython",
    "version": 3
   },
   "file_extension": ".py",
   "mimetype": "text/x-python",
   "name": "python",
   "nbconvert_exporter": "python",
   "pygments_lexer": "ipython3",
   "version": "3.8.3"
  }
 },
 "nbformat": 4,
 "nbformat_minor": 4
}
